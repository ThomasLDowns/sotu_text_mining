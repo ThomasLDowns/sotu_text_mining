{
 "cells": [
  {
   "cell_type": "markdown",
   "metadata": {},
   "source": [
    "# Functions"
   ]
  },
  {
   "cell_type": "code",
   "execution_count": 1,
   "metadata": {},
   "outputs": [
    {
     "data": {
      "text/plain": [
       "tokenize (generic function with 1 method)"
      ]
     },
     "execution_count": 1,
     "metadata": {},
     "output_type": "execute_result"
    }
   ],
   "source": [
    "function tokenize(s::AbstractString)\n",
    "    tokens = replace(s, r\"[,\\.\\\":;!\\$\\(\\)\\?\\[\\]]\" => \"\") #remove non-apostrophe\n",
    "    tokens = replace(tokens, r\"[-—]\" => \" \") #replace dashes with spaces\n",
    "    tokens = replace(tokens, r\"(THE PRESIDENT)\" => \"\") #remove references to president speaking\n",
    "    tokens = split(lowercase(tokens))\n",
    "end"
   ]
  },
  {
   "cell_type": "code",
   "execution_count": 61,
   "metadata": {},
   "outputs": [
    {
     "data": {
      "text/plain": [
       "find_lines_with_word (generic function with 1 method)"
      ]
     },
     "execution_count": 61,
     "metadata": {},
     "output_type": "execute_result"
    }
   ],
   "source": [
    "function find_lines_with_word(s::AbstractString, word::AbstractString)\n",
    "    line_num = 0\n",
    "    for line in split(s, \"\\n\")\n",
    "        line_num += 1\n",
    "        if count(x->occursin(word, x), tokenize(line)) > 0\n",
    "            println(line_num, \": \", line, \"\\n\")\n",
    "        end\n",
    "    end\n",
    "end"
   ]
  },
  {
   "cell_type": "code",
   "execution_count": 57,
   "metadata": {},
   "outputs": [
    {
     "data": {
      "text/plain": [
       "word_count (generic function with 1 method)"
      ]
     },
     "execution_count": 57,
     "metadata": {},
     "output_type": "execute_result"
    }
   ],
   "source": [
    "function word_count(s::AbstractString, word::AbstractString)\n",
    "    text = tokenize(s)\n",
    "    count(x -> occursin(word, x), text)\n",
    "end"
   ]
  },
  {
   "cell_type": "code",
   "execution_count": 4,
   "metadata": {},
   "outputs": [
    {
     "data": {
      "text/plain": [
       "get_unique_word_set (generic function with 1 method)"
      ]
     },
     "execution_count": 4,
     "metadata": {},
     "output_type": "execute_result"
    }
   ],
   "source": [
    "function get_unique_word_set(filepath::AbstractString)\n",
    "    io = open(filepath, \"r\")\n",
    "    Set(tokenize(read(io, String)))\n",
    "end"
   ]
  },
  {
   "cell_type": "code",
   "execution_count": 28,
   "metadata": {
    "scrolled": true
   },
   "outputs": [
    {
     "data": {
      "text/plain": [
       "print_unique_lines (generic function with 1 method)"
      ]
     },
     "execution_count": 28,
     "metadata": {},
     "output_type": "execute_result"
    }
   ],
   "source": [
    "function print_unique_lines(filepath::AbstractString, word_set::Set, n::Int64)\n",
    "    line_count = 0\n",
    "    for line in eachline(filepath)\n",
    "        line_count += 1\n",
    "        tokens = tokenize(line)\n",
    "        if count(x->x in word_set, tokens) > n\n",
    "            println(line_count, \": \", line, \" \\n\")\n",
    "        end\n",
    "    end\n",
    "end"
   ]
  },
  {
   "cell_type": "code",
   "execution_count": 52,
   "metadata": {},
   "outputs": [
    {
     "data": {
      "text/plain": [
       "bulk_upload (generic function with 1 method)"
      ]
     },
     "execution_count": 52,
     "metadata": {},
     "output_type": "execute_result"
    }
   ],
   "source": [
    "function bulk_upload(filepaths::Array{String})\n",
    "    all_str = \"\"\n",
    "    for fp in filepaths\n",
    "        all_str = all_str * read(open(fp, \"r\"), String)\n",
    "    end\n",
    "    all_str\n",
    "end"
   ]
  },
  {
   "cell_type": "markdown",
   "metadata": {},
   "source": [
    "# Comparison of All SOTUs"
   ]
  },
  {
   "cell_type": "code",
   "execution_count": 53,
   "metadata": {
    "collapsed": true
   },
   "outputs": [
    {
     "data": {
      "text/plain": [
       "\"Thank you very much. Mr. Speaker, Mr. Vice President, Members of Congress, the First Lady of the United States, and citizens of America: Tonight, as we mark the conclusion of our celebration of Black History Month, we are reminded of our Nation's path towards civil rights and the work that still remains to be done. Recent threats targeting Jewish community centers and vandalism of Jewish cemeteries, as well as last week's shooting in Kansas City, remind us that while we may be a nation divided on policies, we are a country that stands united in condemning hate and evil in all of its very ugly forms.\\r\\n\\r\\nEach American generation passes the torch of truth, liberty, and justice in an unbroken chain, all the way down to the present. That torch is now in our hands, and we will use it to light up the world. I am here tonight to deliver a message of unity and strength, and it is a message deeply delivered from my heart. A new chapter of American greatness is now beginning. A new national pride is sweeping across our Nation. And a new surge of optimism is placing impossible dreams firmly within our grasp.\\r\\n\\r\\nWhat we are witnessing today is the renewal of the American spirit. Our allies will find that America is once again ready to lead. All the nations of the world—friend or foe—will find that America is strong, America is proud, and America is free.\\r\\n\\r\\nIn 9 years, the United States will celebrate the 250th anniversary of our founding: 250 years since the day we declared our independence. It will be one of the great milestones in the history of the world. But what will America look like as we reach our 250th year? What kind of country will we leave for our children?\\r\\n\\r\\nI will not allow the mistakes of recent decades past to define the course of our future. For too long, we've watched our middle class shrink as we've exported our jobs and wealth to foreign countries. We've financed and built one global project after another, but ignored the fates of our children in the inner cities of Chicago, Baltimore, Detroit, and so many other places throughout our land.\\r\\n\\r\\nWe've defended the borders of other nations, while leaving our own borders wide open for anyone to cross and for drugs to pour in at a now unprecedented rate. And we've spent trillions and trillions of dollars overseas, while our infrastructure at home has so badly crumbled.\\r\\n\\r\\nThen, in 2016, the Earth shifted beneath our feet. The rebellion started as a quiet protest, spoken by families of all colors and creeds, families who just wanted a fair shot for their children and a fair hearing for their concerns.\\r\\n\\r\\nBut then the quiet voices became a loud chorus, as thousands of citizens now spoke out together, from cities small and large, all across our country. Finally, the chorus became an earthquake, and the people turned out by the tens of millions, and they were all united by one very simple, but crucial demand: that America must put its own citizens first. Because only then can we truly make America great again.\\r\\n\\r\\nDying industries will come roaring back to life. Heroic veterans will get the care they so desperately need. Our military will be given the resources its brave warriors so richly deserve. Crumbling infrastructure will be replaced with new roads, bridges, tunnels, airports, and railways gleaming across our very, very beautiful land. Our terrible drug epidemic will slow down and, ultimately, stop. And our neglected inner cities will see a rebirth of hope, safety, and opportunity. Above all else, we will keep our promises to the American people. [Applause] Thank you.\\r\\n\\r\\nIt's been a little over a month since my Inauguration, and I want to take this moment to update the Nation on the progress I've made in keeping those promises.\\r\\n\\r\\nSince my election, Ford, Fiat Chrysler, General Motors, Sprint, Softbank, Lockheed, Intel, Walmart, and many others have announced that they will invest billions and billions of dollars in the United States and will create tens of thousands of new American jobs.\\r\\n\\r\\nThe stock market has gained almost \\$3 trillion in value since the election on November 8—a record. We've saved taxpayers hundreds of millions of dollars by bringing down the price of fantastic—and it is a fantastic—new F-35 jet fighter, and we'll be saving billions more on contracts all across our Government. We have placed a hiring freeze on nonmilitary and nonessential Federal workers.\\r\\n\\r\\nWe have begun to drain the swamp of government corruption by imposing a 5-year ban on lobbying by executive branch officials and a lifetime ban—[applause]—thank you. Thank you. And a lifetime ban on becoming lobbyists for a foreign government.\\r\\n\\r\\nWe have undertaken a historic effort to massively reduce job-crushing regulations, creating a deregulation Task Force inside of every Government agency. And we're imposing a new rule which mandates that for every one new regulation, two old regulations must be eliminated. We're going to stop the regulations that threaten the future and livelihood of our great coal miners.\\r\\n\\r\\nWe have cleared the way for the construction of the Keystone and Dakota Access pipelines, thereby creating tens of thousands of jobs. And I've issued a new directive that new American pipelines be made with American steel.\\r\\n\\r\\nWe have withdrawn the United States from the job-killing Trans-Pacific Partnership. And with the help of Prime Minister Justin Trudeau, we have formed a council with our neighbors in Canada to help ensure that women entrepreneurs have access to the networks, markets, and capital they need to start a business and live out their financial dreams.\\r\\n\\r\\nTo protect our citizens, I have directed the Department of Justice to form a Task Force on Reducing Violent Crime. I have further ordered the Departments of Homeland Security and Justice, along with the Department of State and the Director of National Intelligence, to coordinate an aggressive strategy to dismantle the criminal cartels that have spread all across our Nation. We will stop the drugs from pouring into our country and poisoning our youth, and we will expand treatment for those who have become so badly addicted.\\r\\n\\r\\nAt the same time, my administration has answered the pleas of the American people for immigration enforcement and border security. By finally enforcing our immigration laws, we will raise wages, help the unemployed, save billions and billions of dollars, and make our communities safer for everyone. We want all Americans to succeed, but that can't happen in an environment of lawless chaos. We must restore integrity and the rule of law at our borders.\\r\\n\\r\\nFor that reason, we will soon begin the construction of a great, great wall along our southern border. As we speak tonight, we are removing gang members, drug dealers, and criminals that threaten our communities and prey on our very innocent citizens. Bad ones are going out as I speak, and as I've promised throughout the campaign.\\r\\n\\r\\nTo any in Congress who do not believe we should enforce our laws, I would ask you this one question: What would you say to the American family that loses their jobs, their income, or their loved one because America refused to uphold its laws and defend its borders?\\r\\n\\r\\nOur obligation is to serve, protect, and defend the citizens of the United States. We are also taking strong measures to protect our Nation from radical Islamic terrorism. According to data provided by the Department of Justice, the vast majority of individuals convicted of terrorism and terrorism-related offenses since 9/11 came here from outside of our country. We have seen the attacks at home, from Boston to San Bernardino to the Pentagon, and, yes, even the World Trade Center.\\r\\n\\r\\nWe have seen the attacks in France, in Belgium, in Germany, and all over the world. It is not compassionate, but reckless to allow uncontrolled entry from places where proper vetting cannot occur. Those given the high honor of admission to the United States should support this country and love its people and its values. We cannot allow a beachhead of terrorism to form inside America. We cannot allow our Nation to become a sanctuary for extremists.\\r\\n\\r\\nThat is why my administration has been working on improved vetting procedures, and we will shortly take new steps to keep our Nation safe and to keep those out who will do us harm.\\r\\n\\r\\nAs promised, I directed the Department of Defense to develop a plan to demolish and destroy ISIS, a network of lawless savages that have slaughtered Muslims and Christians, and men and women and children of all faiths and all beliefs. We will work with our allies, including our friends and allies in the Muslim world, to extinguish this vile enemy from our planet.\\r\\n\\r\\nI have also imposed new sanctions on entities and individuals who support Iran's ballistic missile program and reaffirmed our unbreakable alliance with the State of Israel.\\r\\n\\r\\nFinally, I have kept my promise to appoint a Justice to the United States Supreme Court, from my list of 20 judges, who will defend our Constitution.\\r\\n\\r\\nI am greatly honored to have Maureen Scalia with us in the gallery tonight. Thank you, Maureen. Her late, great husband, Antonin Scalia, will forever be a symbol of American justice. To fill his seat, we have chosen Judge Neil Gorsuch, a man of incredible skill and deep devotion to the law. He was confirmed unanimously by the Court of Appeals, and I am asking the Senate to swiftly approve his nomination.\\r\\n\\r\\nTonight, as I outline the next steps we must take as a country, we must honestly acknowledge the circumstances we inherited. Ninety-four million Americans are out of the labor force. Over 43 million people are now living in poverty, and over 43 million Americans are on food stamps. More than 1 in 5 people in their prime working years are not working. We have the worst financial recovery in 65 years. In the last 8 years, the past administration has put on more new debt than nearly all of the other Presidents combined.\\r\\n\\r\\nWe've lost more than one-fourth of our manufacturing jobs since NAFTA was approved, and we've lost 60,000 factories since China joined the World Trade Organization in 2001. Our trade deficit in goods with the world last year was nearly \\$800 billion dollars. And overseas we have inherited a series of tragic foreign policy disasters. Solving these and so many other pressing problems will require us to work past the differences of party. It will require us to tap into the American spirit that has overcome every challenge throughout our long and storied history. But to accomplish our goals at home and abroad, we must restart the engine of the American economy, making it easier for companies to do business in the United States, and much, much harder for companies to leave our country.\\r\\n\\r\\nRight now American companies are taxed at one of the highest rates anywhere in the world. My economic team is developing historic tax reform that will reduce the tax rate on our companies so they can compete and thrive anywhere and with anyone. It will be a big, big cut.\\r\\n\\r\\nAt the same time, we will provide massive tax relief for the middle class. We must create a level playing field for American companies and our workers—have to do it. Currently, when we ship products out of America, many other countries make us pay very high tariffs and taxes. But when foreign companies ship their products into America, we charge them nothing, or almost nothing.\\r\\n\\r\\nI just met with officials and workers from a great American company, Harley-Davidson. In fact, they proudly displayed five of their magnificent motorcycles, made in the U.S.A., on the front lawn of the White House. [Laughter] And they wanted me to ride one, and I said, \\\"No, thank you.\\\" [Laughter]\\r\\n\\r\\nAt our meeting, I asked them, how are you doing, how is business? They said that it's good. I asked them further, how are you doing with other countries, mainly international sales? They told me—without even complaining, because they have been so mistreated for so long that they've become used to it—that it's very hard to do business with other countries because they tax our goods at such a high rate. They said that in the case of another country, they taxed their motorcycles at 100 percent. They weren't even asking for a change. But I am.\\r\\n\\r\\nI believe strongly in free trade, but it also has to be fair trade. It's been a long time since we had fair trade. The first Republican President, Abraham Lincoln, warned that the \\\"abandonment of the protective policy by the American Government will produce want and ruin among our people.\\\" Lincoln was right, and it's time we heeded his advice and his words. I am not going to let America and its great companies and workers be taken advantage of us any longer. They have taken advantage of our country. No longer.\\r\\n\\r\\nI am going to bring back millions of jobs. Protecting our workers also means reforming our system of legal immigration. The current, outdated system depresses wages for our poorest workers and puts great pressure on taxpayers. Nations around the world like Canada, Australia, and many others, have a merit-based immigration system. It's a basic principle that those seeking to enter a country ought to be able to support themselves financially. Yet, in America, we do not enforce this rule, straining the very public resources that our poorest citizens rely upon. According to the National Academy of Sciences, our current immigration system costs American taxpayers many billions of dollars a year.\\r\\n\\r\\nSwitching away from this current system of lower skilled immigration, and instead adopting a merit-based system, we will have so many more benefits. It will save countless dollars, raise workers' wages, and help struggling families—including immigrant families—enter the middle class. And they will do it quickly, and they will be very, very happy, indeed.\\r\\n\\r\\nI believe that real and positive immigration reform is possible, as long as we focus on the following goals: to improve jobs and wages for Americans, to strengthen our Nation's security, and to restore respect for our laws. If we are guided by the wellbeing of American citizens, then I believe Republicans and Democrats can work together to achieve an outcome that has eluded our country for decades.\\r\\n\\r\\nAnother Republican President, Dwight D. Eisenhower, initiated the last truly great national infrastructure program—the building of the Interstate Highway System. The time has come for a new program of national rebuilding. America has spent approximately \\$6 trillion in the Middle East; all the while, our infrastructure at home is crumbling. With this \\$6 trillion, we could have rebuilt our country twice, and maybe even three times if we had people who had the ability to negotiate. [Laughter]\\r\\n\\r\\nTo launch our national rebuilding, I will be asking Congress to approve legislation that produces a \\$1 trillion investment in infrastructure of the United States—financed through both public and private capital—creating millions of new jobs. This effort will be guided by two core principles: buy American and hire American.\\r\\n\\r\\nTonight I am also calling on this Congress to repeal and replace Obamacare with reforms that expand choice, increase access, lower costs, and at the same time, provide better health care.\\r\\n\\r\\nMandating every American to buy Government-approved health insurance was never the right solution for our country. The way to make health insurance available to everyone is to lower the cost of health insurance, and that is what we are going do.\\r\\n\\r\\nObamacare premiums nationwide have increased by double and triple digits. As an example, Arizona went up 116 percent last year alone. Governor Matt Bevin of Kentucky just said Obamacare is failing in his State—the State of Kentucky—and it's unsustainable and collapsing.\\r\\n\\r\\nOne-third of the counties have only one insurer, and they are losing them fast. They are losing them so fast. They are leaving, and many Americans have no choice at all. There's no choice left. Remember when you were told that you could keep your doctor and keep your plan? We now know that all of those promises have been totally broken. Obamacare is collapsing, and we must act decisively to protect all Americans.\\r\\n\\r\\nAction is not a choice, it is a necessity. So I am calling on all Democrats and Republicans in Congress to work with us to save Americans from this imploding Obamacare disaster.\\r\\n\\r\\nHere are the principles that should guide the Congress as we move to create a better health care system for all Americans:\\r\\n\\r\\nFirst, we should ensure that Americans with preexisting conditions have access to coverage, and that we have a stable transition for Americans currently enrolled in the health care exchanges.\\r\\n\\r\\nSecondly, we should help Americans purchase their own coverage through the use of tax credits and expanded health savings accounts, but it must be the plan they want, not the plan forced on them by our Government.\\r\\n\\r\\nThirdly, we should give our State Governors the resources and flexibility they need with Medicaid to make sure no one is left out.\\r\\n\\r\\nFourth, we should implement legal reforms that protect patients and doctors from unnecessary costs that drive up the price of insurance and work to bring down the artificially high price of drugs and bring them down immediately. And finally, the time has come to give Americans the freedom to purchase health insurance across State lines, which will create a truly competitive national marketplace that will bring costs way down and provide far better care. So important.\\r\\n\\r\\nEverything that is broken in our country can be fixed. Every problem can be solved. And every hurting family can find healing and hope.\\r\\n\\r\\nOur citizens deserve this and so much more, so why not join forces and finally get the job done, and get it done right? On this and so many other things, Democrats and Republicans should get together and unite for the good of our country and for the good of the American people.\\r\\n\\r\\nMy administration wants to work with members of both parties to make childcare accessible and affordable; to help ensure new parents that they have paid family leave; to invest in women's health; and to promote clean air and clean water; and to rebuild our military and our infrastructure.\\r\\n\\r\\nTrue love for our people requires us to find common ground, to advance the common good, and to cooperate on behalf of every American child who deserves a much brighter future.\\r\\n\\r\\nAn incredible young woman is with us this evening, who should serve as an inspiration to us all. Today is Rare Disease Day, and joining us in the gallery is a rare disease survivor, Megan Crowley.\\r\\n\\r\\nMegan was diagnosed with Pompe disease, a rare and serious illness, when she was 15 months old. She was not expected to live past 5. On receiving this news, Megan's dad John fought with everything he had to save the life of his precious child. He founded a company to look for a cure and helped develop the drug that saved Megan's life. Today she is 20 years old and a sophomore at Notre Dame.\\r\\n\\r\\nMegan's story is about the unbounded power of a father's love for a daughter. But our slow and burdensome approval process at the Food and Drug Administration keeps too many advances, like the one that saved Megan's life, from reaching those in need. If we slash the restraints, not just at the FDA, but across our Government, then we will be blessed with far more miracles just like Megan. In fact, our children will grow up in a nation of miracles.\\r\\n\\r\\nBut to achieve this future, we must enrich the mind and the souls of every American child. Education is the civil rights issue of our time. I am calling upon members of both parties to pass an education bill that funds school choice for disadvantaged youth, including millions of African American and Latino children. These families should be free to choose the public, private, charter, magnet, religious, or home school that is right for them.\\r\\n\\r\\nJoining us tonight in the gallery is a remarkable woman, Denisha Merriweather. As a young girl, Denisha struggled in school and failed third grade twice. But then, she was able to enroll in a private center for learning—great learning center—with the help of a tax credit and a scholarship program.\\r\\n\\r\\nToday, she is the first in her family to graduate, not just from high school, but from college. Later this year she will get her master's degree in social work. We want all children to be able to break the cycle of poverty just like Denisha.\\r\\n\\r\\nBut to break the cycle of poverty, we must also break the cycle of violence. The murder rate in 2015 experienced its largest single-year increase in nearly half a century. In Chicago, more than 4,000 people were shot last year alone, and the murder rate so far this year has been even higher. This is not acceptable in our society.\\r\\n\\r\\nEvery American child should be able to grow up in a safe community, to attend a great school, and to have access to a high-paying job. But to create this future, we must work with, not against—not against—the men and women of law enforcement. We must build bridges of cooperation and trust, not drive the wedge of disunity, and really, it's what it is—division. It's pure, unadulterated division. We have to unify.\\r\\n\\r\\nPolice and sheriffs are members of our community. They're friends and neighbors, they're mothers and fathers, sons and daughters, and they leave behind loved ones every day who worry about whether or not they'll come home safe and sound. We must support the incredible men and women of law enforcement.\\r\\n\\r\\nAnd we must support the victims of crime. I have ordered the Department of Homeland Security to create an office to serve American victims. The office is called VOICE: Victims of Immigration Crime Engagement. We are providing a voice to those who have been ignored by our media and silenced by special interests. Joining us in the audience tonight are four very brave Americans whose Government failed them. Their names are Jamiel Shaw, Susan Oliver, Jenna Oliver, and Jessica Davis.\\r\\n\\r\\nJamiel's 17-year-old son was viciously murdered by an illegal immigrant gang member who had just been released from prison. Jamiel Shaw, Jr. was an incredible young man, with unlimited potential, who was getting ready to go to college where he would have excelled as a great college quarterback. But he never got the chance. His father, who is in the audience tonight, has become a very good friend of mine. Jamiel, thank you. Thank you.\\r\\n\\r\\nAlso with us are Susan Oliver and Jessica Davis. Their husbands, Deputy Sheriff Danny Oliver and Detective Michael Davis, were slain in the line of duty in California. They were pillars of their community. These brave men were viciously gunned down by an illegal immigrant with a criminal record and two prior deportations. Should have never been in our country.\\r\\n\\r\\nSitting with Susan is her daughter, Jenna. Jenna, I want you to know that your father was a hero, and that tonight you have the love of an entire country supporting you and praying for you.\\r\\n\\r\\nTo Jamiel, Jenna, Susan, and Jessica: I want you to know that we will never stop fighting for justice. Your loved ones will never, ever be forgotten. We will always honor their memory.\\r\\n\\r\\nFinally, to keep America safe, we must provide the men and women of the United States military with the tools they need to prevent war. If they must, they have to fight and they only have to win.\\r\\n\\r\\nI am sending Congress a budget that rebuilds the military, eliminates the defense sequester, and calls for one of the largest increases in national defense spending in American history. My budget will also increase funding for our veterans. Our veterans have delivered for this Nation, and now we must deliver for them.\\r\\n\\r\\nThe challenges we face as a nation are great, but our people are even greater. And none are greater or are braver than those who fight for America in uniform.\\r\\n\\r\\nWe are blessed to be joined tonight by Carryn Owens, the widow of U.S. Navy Special Operator, Senior Chief William \\\"Ryan\\\" Owens. Ryan died as he lived: a warrior and a hero, battling against terrorism and securing our Nation. I just spoke to our great General Mattis, just now, who reconfirmed that—and I quote—\\\"Ryan was a part of a highly successful raid that generated large amounts of vital intelligence that will lead to many more victories in the future against our enemy.\\\" Ryan's legacy is etched into eternity. Thank you. [Applause] And Ryan is looking down, right now—you know that—and he is very happy because I think he just broke a record. [Laughter]\\r\\n\\r\\nFor as the Bible teaches us, there is no greater act of love than to lay down one's life for one's friends. Ryan laid down his life for his friends, for his country, and for our freedom. And we will never forget Ryan.\\r\\n\\r\\nTo those allies who wonder what kind of a friend America will be, look no further than the heroes who wear our uniform. Our foreign policy calls for a direct, robust, and meaningful engagement with the world. It is American leadership based on vital security interests that we share with our allies all across the globe.\\r\\n\\r\\nWe strongly support NATO, an alliance forged through the bonds of two world wars that dethroned fascism, and a cold war, and defeated communism.\\r\\n\\r\\nBut our partners must meet their financial obligations. And now, based on our very strong and frank discussions, they are beginning to do just that. In fact, I can tell you, the money is pouring in. Very nice. We expect our partners—whether in NATO, the Middle East, or in the Pacific—to take a direct and meaningful role in both strategic and military operations, and pay their fair share of the cost. Have to do that.\\r\\n\\r\\nWe will respect historic institutions, but we will respect the foreign rights of all nations, and they have to respect our rights as a nation also. Free nations are the best vehicle for expressing the will of the people, and America respects the right of all nations to chart their own path. My job is not to represent the world. My job is to represent the United States of America.\\r\\n\\r\\nBut we know that America is better off when there is less conflict, not more. We must learn from the mistakes of the past. We have seen the war and the destruction that have ravaged and raged throughout the world—all across the world. The only long-term solution for these humanitarian disasters, in many cases, is to create the conditions where displaced persons can safely return home and begin the long, long process of rebuilding.\\r\\n\\r\\nAmerica is willing to find new friends and to forge new partnerships where shared interests align. We want harmony and stability, not war and conflict. We want peace, wherever peace can be found.\\r\\n\\r\\nAmerica is friends today with former enemies. Some of our closest allies, decades ago, fought on the opposite side of these terrible, terrible wars. This history should give us all faith in the possibilities for a better world. Hopefully, the 250th year for America will see a world that is more peaceful, more just, and more free.\\r\\n\\r\\nOn our 100th anniversary, in 1876, citizens from across our Nation came to Philadelphia to celebrate America's centennial. At that celebration, the country's builders and artists and inventors showed off their wonderful creations. Alexander Graham Bell displayed his telephone for the first time. Remington unveiled the first typewriter. An early attempt was made at electric light. Thomas Edison showed an automatic telegraph and an electric pen. Imagine the wonders our country could know in America's 250th year. Think of the marvels we can achieve if we simply set free the dreams of our people. Cures to the illnesses that have always plagued us are not too much to hope. American footprints on distant worlds are not too big a dream. Millions lifted from welfare to work is not too much to expect. And streets where mothers are safe from fear, schools where children learn in peace, and jobs where Americans prosper and grow are not too much to ask.\\r\\n\\r\\nWhen we have all of this, we will have made America greater than ever before—for all Americans. This is our vision. This is our mission. But we can only get there together. We are one people with one destiny. We all bleed the same blood. We all salute the same great American flag. And we all are made by the same God.\\r\\n\\r\\nWhen we fulfill this vision, when we celebrate our 250 years of glorious freedom, we will look back on tonight as when this new chapter of American greatness began. The time for small thinking is over. The time for trivial fights is behind us. We just need the courage to share the dreams that fill our hearts, the bravery to express the hopes that stir our souls, and the confidence to turn those hopes and those dreams into action.\\r\\n\\r\\nFrom now on, America will be empowered by our aspirations, not burdened by our fears; inspired by the future, not bound by failures of the past; and guided by our vision, not blinded by our doubts.\\r\\n\\r\\nI am asking all citizens to embrace this renewal of the American spirit. I am asking all Members of Congress to join me in dreaming big and bold, and daring things for our country. I am asking everyone watching tonight to seize this moment. Believe in yourselves, believe in your future, and believe, once more, in America.\\r\\n\\r\\nThank you, God bless you, and God bless the United States.The President. Mr. Speaker, Mr. Vice President, Members of Congress, the First Lady of the United States, and my fellow Americans: Less than 1 year has passed since I first stood at this podium, in this majestic Chamber, to speak on behalf of the American people and to address their concerns, their hopes, and their dreams. That night, our new administration had already taken very swift action. A new tide of optimism was already sweeping across our land. Each day since, we have gone forward with a clear vision and a righteous mission: to make America great again for all Americans.\\r\\n\\r\\nOver the last year, we have made incredible progress and achieved extraordinary success. We have faced challenges we expected and others we could never have imagined. We have shared in the heights of victory and the pains of hardship. We have endured floods and fires and storms. But through it all, we have seen the beauty of America's soul and the steel in America's spine.\\r\\n\\r\\nEach test has forged new American heroes to remind us who we are and show us what we can be. We saw the volunteers of the Cajun Navy racing to the rescue with their fishing boats to save people in the aftermath of a totally devastating hurricane. We saw strangers shielding strangers from a hail of gunfire on the Las Vegas strip.\\r\\n\\r\\nWe heard tales of Americans like Coast Guard Petty Officer Ashlee Leppert, who is here tonight in the gallery with Melania. Ashlee was aboard one of the first helicopters on the scene in Houston during the Hurricane Harvey. Through 18 hours of wind and rain, Ashlee braved live power lines and deep water to help save more than 40 lives. Ashlee, we all thank you. Thank you very much.\\r\\n\\r\\nWe heard about Americans like firefighter David Dahlberg. He's here with us also. David faced down walls of flame to rescue almost 60 children trapped at a California summer camp threatened by those devastating wildfires. To everyone still recovering in Texas, Florida, Louisiana, Puerto Rico, and the Virgin Islands—everywhere—we are with you, we love you, and we always will pull through together, always. Thank you to David and the brave people of California. Thank you very much, David. Great job.\\r\\n\\r\\nSome trials over the past year touched this Chamber very personally. With us tonight is one of the toughest people ever to serve in this House, a guy who took a bullet, almost died, and was back to work 3½ months later: the legend from Louisiana—[laughter]—Congressman Steve Scalise. [Applause] I think they like you, Steve. [Laughter] We are incredibly grateful for the heroic efforts of the Capitol Police officers, the Alexandria Police, and the doctors, nurses, and paramedics who saved his life and the lives of many others; some in this room. In the aftermath—[applause]—yes. Yes.\\r\\n\\r\\nIn the aftermath of that terrible shooting, we came together, not as Republicans or Democrats, but as representatives of the people. But it is not enough to come together only in times of tragedy. Tonight I call upon all of us to set aside our differences, to seek out common ground, and to summon the unity we need to deliver for the people. This is really the key. These are the people we were elected to serve. [Applause] Thank you. Over the last year, the world has seen what we always knew: that no people on Earth are so fearless or daring or determined as Americans. If there is a mountain, we climb it. If there is a frontier, we cross it. If there's a challenge, we tame it. If there's an opportunity, we seize it. So let's begin tonight by recognizing that the state of our Union is strong because our people are strong. And together, we are building a safe, strong, and proud America.\\r\\n\\r\\nSince the election, we have created 2.4 million new jobs, including 200,000 new jobs in manufacturing alone. Tremendous numbers. After years and years of wage stagnation, we are finally seeing rising wages. Unemployment claims have hit a 45-year low. And something I'm very proud of: African American unemployment stands at the lowest rate ever recorded. And Hispanic American unemployment has also reached the lowest levels in history.\\r\\n\\r\\nSmall-business confidence is at an alltime high. The stock market has smashed one record after another, gaining \\$8 trillion and more in value in just this short period of time. The great news for Americans: 401(k), retirement, pension, and college savings accounts have gone through the roof.\\r\\n\\r\\nAnd just as I promised the American people from this podium 11 months ago, we enacted the biggest tax cuts and reforms in American history. Our massive tax cuts provide tremendous relief for the middle class and small business. To lower tax rates for hard-working Americans, we nearly doubled the standard deduction for everyone. Now, the first \\$24,000 earned by a married couple is completely tax free. We also doubled the child tax credit. A typical family of four making \\$75,000 will see their tax bill reduced by \\$2,000, slashing their tax bill in half. In April, this will be the last time you will ever file under the old and very broken system, and millions of Americans will have more take-home pay starting next month—a lot more.\\r\\n\\r\\nWe eliminated an especially cruel tax that fell mostly on Americans making less than \\$50,000 a year, forcing them to pay tremendous penalties simply because they couldn't afford Government-ordered health plans. We repealed the core of the disastrous Obamacare. The individual mandate is now gone, thank heavens. [Applause] Great job.\\r\\n\\r\\nWe slashed the business tax rate from 35 percent all the way down to 21 percent, so American companies can compete and win against anyone else anywhere in the world. These changes alone are estimated to increase average family income by more than \\$4,000, a lot of money. Small businesses have also received a massive tax cut and can now deduct 20 percent of their business income.\\r\\n\\r\\nHere tonight are Steve Staub and Sandy Keplinger of Staub Manufacturing, a small, beautiful business in Ohio. They've just finished the best year in their 20-year history. Because of tax reform, they are handing out raises, hiring an additional 14 people, and expanding into the building next door. It's a good feeling.\\r\\n\\r\\nOne of Staub's employees, Corey Adams, is also with us tonight. Corey is an all-American worker. He supported himself through high school, lost his job during the 2008 recession, and was later hired by Staub, where he trained to become a welder. Like many hard-working Americans, Corey plans to invest his tax cut raise into his new home and his two daughters' education. Corey, please stand. And he's a great welder. [Laughter] I was told that by the man that owns that company that's doing so well. So congratulations, Corey.\\r\\n\\r\\nSince we passed tax cuts, roughly 3 million workers have already gotten tax cut bonuses, many of them thousands and thousands of dollars per worker. And it's getting more every month, every week. Apple has just announced it plans to invest a total of \\$350 billion in America and hire another 20,000 workers. And just a little while ago, ExxonMobil announced a \\$50 billion investment in the United States—just a little while ago.\\r\\n\\r\\nThis, in fact, is our new American moment. There has never been a better time to start living the American Dream. So to every citizen watching at home tonight, no matter where you've been or where you've come from, this is your time. If you work hard, if you believe in yourself, if you believe in America, then you can dream anything, you can be anything, and together, we can achieve absolutely anything.\\r\\n\\r\\nTonight I want to talk about what kind of future we are going to have and what kind of a nation we are going to be. All of us, together, as one team, one people, and one American family can do anything. We all share the same home, the same heart, the same destiny, and the same great American flag. Together, we are rediscovering the American way. In America, we know that faith and family, not government and bureaucracy, are the center of American life. The motto is, \\\"In God We Trust.\\\" And we celebrate our police, our military, and our amazing veterans as heroes who deserve our total and unwavering support.\\r\\n\\r\\nHere tonight is Preston Sharp, a 12-year-old boy from Redding, California, who noticed that veterans' graves were not marked with flags on Veterans Day. He decided all by himself to change that and started a movement that has now placed 40,000 flags at the graves of our great heroes. Preston, a job well done. Young patriots, like Preston, teach all of us about our civic duty as Americans. And I met Preston a little while ago, and he is something very special, that I can tell you. Great future. Thank you very much for all you've done, Preston. Thank you very much.\\r\\n\\r\\nPreston's reverence for those who have served our Nation reminds us of why we salute our flag, why we put our hands on our hearts for the Pledge of Allegiance, and why we proudly stand for the national anthem. Americans love their country, and they deserve a Government that shows them the same love and loyalty in return. For the last year, we have sought to restore the bonds of trust between our citizens and their Government. Working with the Senate, we are appointing judges who will interpret the Constitution as written, including a great new Supreme Court Justice and more circuit court judges than any new administration in the history of our country. We are totally defending our Second Amendment and have taken historic actions to protect religious liberty.\\r\\n\\r\\nAnd we are serving our brave veterans, including giving our veterans choice in their health care decisions. Last year, Congress also passed, and I signed, the landmark VA Accountability Act. Since its passage, my administration has already removed more than 1,500 VA employees who failed to give our veterans the care they deserve. And we are hiring talented people who love our vets as much as we do. And I will not stop until our veterans are properly taken care of, which has been my promise to them from the very beginning of this great journey.\\r\\n\\r\\nAll Americans deserve accountability and respect, and that's what we are giving to our wonderful heroes, our veterans. Thank you. So tonight I call on Congress to empower every Cabinet Secretary with the authority to reward good workers and to remove Federal employees who undermine the public trust or fail the American people.\\r\\n\\r\\nIn our drive to make Washington accountable, we have eliminated more regulations in our first year than any administration in the history of our country. We have ended the war on American energy, and we have ended the war on beautiful, clean coal. We are now, very proudly, an exporter of energy to the world. In Detroit, I halted Government mandates that crippled America's great, beautiful autoworkers so that we can get Motor City revving its engines again. And that's what's happening. Many car companies are now building and expanding plants in the United States, something we haven't seen for decades. Chrysler is moving a major plant from Mexico to Michigan. Toyota and Mazda are opening up a plant in Alabama, a big one. And we haven't seen this in a long time. It's all coming back.\\r\\n\\r\\nVery soon, auto plants and other plants will be opening up all over our country. This is all news Americans are totally unaccustomed to hearing. For many years, companies and jobs were only leaving us. But now they are roaring back. They're coming back. They want to be where the action is. They want to be in the United States of America. That's where they want to be.\\r\\n\\r\\nExciting progress is happening every single day. To speed access to breakthrough cures and affordable generic drugs, last year, the FDA approved more new and generic drugs and medical devices than ever before in our country's history. We also believe that patients with terminal conditions and terminal illness should have access to experimental treatment immediately that could potentially save their lives. People who are terminally ill should not have to go from country to country to seek a cure. I want to give them a chance right here at home. It's time for Congress to give these wonderful, incredible Americans the right to try. [Applause] Right?\\r\\n\\r\\nOne of my greatest priorities is to reduce the price of prescription drugs. In many other countries, these drugs cost far less than what we pay in the United States. And it's very, very unfair. That is why I have directed my administration to make fixing the injustice of high drug prices one of my top priorities for the year. And prices will come down substantially. Watch.\\r\\n\\r\\nAmerica has also finally turned the page on decades of unfair trade deals that sacrificed our prosperity and shipped away our companies, our jobs, and our wealth. Our Nation has lost its wealth, but we're getting it back so fast. The era of economic surrender is totally over. From now on, we expect trading relationships to be fair and, very importantly, reciprocal.\\r\\n\\r\\nWe will work to fix bad trade deals and negotiate new ones. And they'll be good ones, but they'll be fair. And we will protect American workers and American intellectual property through strong enforcement of our trade rules.\\r\\n\\r\\nAs we rebuild our industries, it is also time to rebuild our crumbling infrastructure. America is a nation of builders. We built the Empire State Building in just 1 year. Isn't it a disgrace that it can now take 10 years just to get a minor permit approved for the building of a simple road? I am asking both parties to come together to give us safe, fast, reliable, and modern infrastructure that our economy needs and our people deserve.\\r\\n\\r\\nTonight I'm calling on Congress to produce a bill that generates at least \\$1.5 trillion for the new infrastructure investment that our country so desperately needs. Every Federal dollar should be leveraged by partnering with State and local governments and, where appropriate, tapping into private sector investment to permanently fix the infrastructure deficit. And we can do it.\\r\\n\\r\\nAny bill must also streamline the permitting and approval process, getting it down to no more than 2 years and perhaps even 1. Together, we can reclaim our great building heritage. We will build gleaming new roads, bridges, highways, railways, and waterways all across our land. And we will do it with American heart and American hands and American grit. We want every American to know the dignity of a hard day's work. We want every child to be safe in their home at night. And we want every citizen to be proud of this land that we all love so much. We can lift our citizens from welfare to work, from dependence to independence, and from poverty to prosperity.\\r\\n\\r\\nAs tax cuts create new jobs, let's invest in workforce development, and let's invest in job training, which we need so badly. Let's open great vocational schools so our future workers can learn a craft and realize their full potential. And let's support working families by supporting paid family leave.\\r\\n\\r\\nAs America regains its strength, opportunity must be extended to all citizens. That is why this year, we will embark on reforming our prisons to help former inmates, who have served their time, get a second chance at life.\\r\\n\\r\\nStruggling communities, especially immigrant communities, will also be helped by immigration policies that focus on the best interests of American workers and American families. For decades, open borders have allowed drugs and gangs to pour into our most vulnerable communities. They've allowed millions of low-wage workers to compete for jobs and wages against the poorest Americans. Most tragically, they have caused the loss of many innocent lives.\\r\\n\\r\\nHere tonight are two fathers and two mothers: Evelyn Rodriguez, Freddy Cuevas, Elizabeth Alvarado, and Robert Mickens. Their two teenage daughters—Kayla Cuevas and Nisa Mickens—were close friends on Long Island. But in September 2016, on the eve of Nisa's 16th birthday—such a happy time it should have been—neither of them came home. These two precious girls were brutally murdered while walking together in their hometown.\\r\\n\\r\\nSix members of the savage MS-13 gang have been charged with Kayla and Nisa's murders. Many of these gang members took advantage of glaring loopholes in our laws to enter the country as illegal, unaccompanied alien minors, and wound up in Kayla and Nisa's high school. Evelyn, Elizabeth, Freddy, and Robert: Tonight everyone in this chamber is praying for you. Everyone in America is grieving for you. Please stand. Thank you very much. I want you to know that 320 million hearts are right now breaking for you. We love you. Thank you.\\r\\n\\r\\nWhile we cannot imagine the depths of that kind of sorrow, we can make sure that other families never have to endure this kind of pain. Tonight I am calling on Congress to finally close the deadly loopholes that have allowed MS-13 and other criminal gangs to break into our country. We have proposed new legislation that will fix our immigration laws and support our ICE and Border Patrol agents—these are great people; these are great, great people—that work so hard in the midst of such danger so that this can never happen again.\\r\\n\\r\\nThe United States is a compassionate nation. We are proud that we do more than any other country anywhere in the world to help the needy, the struggling, and the underprivileged all over the world. But as President of the United States, my highest loyalty, my greatest compassion, my constant concern is for America's children, America's struggling workers, and America's forgotten communities. I want our youth to grow up to achieve great things. I want our poor to have their chance to rise.\\r\\n\\r\\nSo tonight I am extending an open hand to work with members of both parties, Democrats and Republicans, to protect our citizens of every background, color, religion, and creed. My duty, and the sacred duty of every elected official in this Chamber, is to defend Americans, to protect their safety, their families, their communities, and their right to the American Dream. Because Americans are dreamers too. Here tonight is one leader in the effort to defend our country, Homeland Security Investigations Special Agent Celestino Martinez. He goes by \\\"D.J.\\\" and \\\"C.J.\\\" He said, \\\"Call me either one.\\\" [Laughter] So we'll call you \\\"C.J.\\\" [Laughter] Served 15 years in the Air Force before becoming an ICE agent and spending the last 15 years fighting gang violence and getting dangerous criminals off of our streets. Tough job.\\r\\n\\r\\nAt one point, MS-13 leaders ordered C.J.'s murder. And they wanted it to happen quickly. But he did not cave to threats or to fear. Last May, he commanded an operation to track down gang members on Long Island. His team has arrested nearly 400, including more than 220 MS-13 gang members. And I have to tell you, what the Border Patrol and ICE have done, we have sent thousands and thousands and thousands of MS-13 horrible people out of this country or into our prisons. So I just want to congratulate you, C.J. You're a brave guy. Thank you very much.\\r\\n\\r\\nAnd I asked C.J., \\\"What's the secret?\\\" He said, \\\"We're just tougher than they are.\\\" And I like that answer. [Laughter] Now, let's get Congress to send you—and all of the people in this great Chamber have to do it; we have no choice. C.J., we're going to send you reinforcements, and we're going to send them to you quickly. It's what you need.\\r\\n\\r\\nOver the next few weeks, the House and Senate will be voting on an immigration reform package. In recent months, my administration has met extensively with both Democrats and Republicans to craft a bipartisan approach to immigration reform. Based on these discussions, we presented Congress with a detailed proposal that should be supported by both parties as a fair compromise, one where nobody gets everything they want, but where our country gets the critical reforms it needs and must have.\\r\\n\\r\\nHere are the four pillars of our plan: The first pillar of our framework generously offers a path to citizenship for 1.8 million illegal immigrants who were brought here by their parents at a young age. That covers almost three times more people than the previous administration covered. Under our plan, those who meet education and work requirements and show good moral character will be able to become full citizens of the United States over a 12-year period.\\r\\n\\r\\nThe second pillar fully secures the border. That means building a great wall on the southern border, and it means hiring more heroes, like C.J., to keep our communities safe. Crucially, our plan closes the terrible loopholes exploited by criminals and terrorists to enter our country, and it finally ends the horrible and dangerous practice of catch-and-release.\\r\\n\\r\\nThe third pillar ends the visa lottery, a program that randomly hands out green cards without any regard for skill, merit, or the safety of American people. It's time to begin moving toward a merit-based immigration system, one that admits people who are skilled, who want to work, who will contribute to our society, and who will love and respect our country.\\r\\n\\r\\nThe fourth and final pillar protects the nuclear family by ending chain migration. Under the current broken system, a single immigrant can bring in virtually unlimited numbers of distant relatives. Under our plan, we focus on the immediate family by limiting sponsorships to spouses and minor children. This vital reform is necessary, not just for our economy, but for our security and for the future of America.\\r\\n\\r\\nIn recent weeks, two terrorist attacks in New York were made possible by the visa lottery and chain migration. In the age of terrorism, these programs present risks we can just no longer afford. It's time to reform these outdated immigration rules and finally bring our immigration system into the 21st century. These four pillars represent a down-the-middle compromise and one that will create a safe, modern, and lawful immigration system. For over 30 years, Washington has tried and failed to solve this problem. This Congress can be the one that finally makes it happen. Most importantly, these four pillars will produce legislation that fulfills my ironclad pledge to sign a bill that puts America first. So let's come together, set politics aside, and finally get the job done.\\r\\n\\r\\nThese reforms will also support our response to the terrible crisis of opioid and drug addiction. Never before has it been like it is now. It is terrible. We have to do something about it. In 2016, we lost 64,000 Americans to drug overdoses: 174 deaths per day, 7 per hour. We must get much tougher on drug dealers and pushers if we are going to succeed in stopping this scourge.\\r\\n\\r\\nMy administration is committed to fighting the drug epidemic and helping get treatment for those in need, for those who have been so terribly hurt. The struggle will be long, and it will be difficult, but as Americans always do, in the end, we will succeed. We will prevail.\\r\\n\\r\\nAs we have seen tonight, the most difficult challenges bring out the best in America. We see a vivid expression of this truth in the story of the Holets family of New Mexico. Ryan Holets is 27 years old, an officer with the Albuquerque Police Department. He's here tonight with his wife Rebecca. Thank you, Ryan.\\r\\n\\r\\nLast year, Ryan was on duty when he saw a pregnant, homeless woman preparing to inject heroin. When Ryan told her she was going to harm her unborn child, she began to weep. She told him she didn't know where to turn, but badly wanted a safe home for her baby.\\r\\n\\r\\nIn that moment, Ryan said he felt God speak to him: \\\"You will do it, because you can.\\\" He heard those words. He took out a picture of his wife and their four kids. Then, he went home to tell his wife Rebecca. In an instant, she agreed to adopt. The Holets named their new daughter Hope. Ryan and Rebecca, you embody the goodness of our Nation. Thank you. Thank you, Ryan and Rebecca.\\r\\n\\r\\nAs we rebuild America's strength and confidence at home, we are also restoring our strength and standing abroad. Around the world, we face rogue regimes, terrorist groups, and rivals like China and Russia that challenge our interests, our economy, and our values. In confronting these horrible dangers, we know that weakness is the surest path to conflict and unmatched power is the surest means to our true and great defense.\\r\\n\\r\\nFor this reason, I am asking Congress to end the dangerous defense sequester and fully fund our great military. As part of our defense, we must modernize and rebuild our nuclear arsenal, hopefully, never having to use it, but making it so strong and so powerful that it will deter any acts of aggression by any other nation or anyone else. Perhaps someday in the future, there will be a magical moment when the countries of the world will get together to eliminate their nuclear weapons. Unfortunately, we are not there yet, sadly.\\r\\n\\r\\nLast year, I also pledged that we would work with our allies to extinguish ISIS from the face of the Earth. One year later, I am proud to report that the coalition to defeat ISIS has liberated very close to 100 percent of the territory just recently held by these killers in Iraq and in Syria and in other locations as well. But there is much more work to be done. We will continue our fight until ISIS is defeated.\\r\\n\\r\\nArmy Staff Sergeant Justin Peck is here tonight. Near Raqqa, last November, Justin and his comrade, Chief Petty Officer Kenton Stacy, were on a mission to clear buildings that ISIS had rigged with explosive so that civilians could return to that city, hopefully, soon and, hopefully, safely.\\r\\n\\r\\nClearing the second floor of a vital hospital, Kenton Stacy was severely wounded by an explosion. Immediately, Justin bounded into the booby-trapped and unbelievably dangerous and unsafe building, and found Kenton, but in very, very bad shape. He applied pressure to the wound and inserted a tube to reopen an airway. He then performed CPR for 20 straight minutes during the ground transport and maintained artificial respiration through 2½ hours and through emergency surgery.\\r\\n\\r\\nKenton Stacy would have died if it were not for Justin's selfless love for his fellow warrior. Tonight Kenton is recovering in Texas, Raqqa is liberated, and Justin is wearing his new Bronze Star, with a \\\"V\\\" for valor. Staff Sergeant Peck, all of America salutes you.\\r\\n\\r\\nTerrorists who do things like place bombs in civilian hospitals are evil. When possible, we have no choice but to annihilate them. When necessary, we must be able to detain and question them. But we must be clear: Terrorists are not merely criminals, they are unlawful enemy combatants. And when captured overseas, they should be treated like the terrorists they are.\\r\\n\\r\\nIn the past, we have foolishly released hundreds and hundreds of dangerous terrorists, only to meet them again on the battlefield, including the ISIS leader, al-Baghdadi, who we captured, who we had, who we released. So today I'm keeping another promise. I just signed, prior to walking in, an order directing Secretary Mattis—who is doing a great job, thank you—to reexamine our military detention policy and to keep open the detention facilities in Guantanamo Bay. I am asking Congress to ensure that, in the fight against ISIS and Al Qaida, we continue to have all necessary power to detain terrorists, wherever we chase them down, wherever we find them. And in many cases, for them, it will now be Guantanamo Bay.\\r\\n\\r\\nAt the same time, as of a few months ago, our warriors in Afghanistan have new rules of engagement. Along with their heroic Afghan partners, our military is no longer undermined by artificial timelines, and we no longer tell our enemies our plans.\\r\\n\\r\\nLast month, I also took an action endorsed unanimously by the U.S. Senate just months before. I recognized Jerusalem as the capital of Israel. Shortly afterwards, dozens of countries voted in the United Nations General Assembly against America's sovereign right to make this decision. In 2016, American taxpayers generously sent those same countries more than \\$20 billion in aid. That is why tonight I am asking Congress to pass legislation to help ensure American foreign-assistance dollars always serve American interests and only go to friends of America, not enemies of America.\\r\\n\\r\\nAs we strengthen friendships all around the world, we are also restoring clarity about our adversaries. When the people of Iran rose up against the crimes of their corrupt dictatorship, I did not stay silent. America stands with the people of Iran in their courageous struggle for freedom. I am asking Congress to address the fundamental flaws in the terrible Iran nuclear deal. My administration has also imposed tough sanctions on the communist and socialist dictatorships in Cuba and Venezuela.\\r\\n\\r\\nBut no regime has oppressed its own citizens more totally or brutally than the cruel dictatorship in North Korea. North Korea's reckless pursuit of nuclear missiles could very soon threaten our homeland. We are waging a campaign of maximum pressure to prevent that from ever happening. Past experience has taught us that complacency and concessions only invite aggression and provocation. I will not repeat the mistakes of past administrations that got us into this very dangerous position. We need only look at the depraved character of the North Korean regime to understand the nature of the nuclear threat it could pose to America and to our allies.\\r\\n\\r\\nOtto Warmbier was a hard-working student at the University of Virginia, and a great student he was. On his way to study abroad in Asia, Otto joined a tour to North Korea. At its conclusion, this wonderful young man was arrested and charged with crimes against the state. After a shameful trial, the dictatorship sentenced Otto to 15 years of hard labor, before returning him to America last June, horribly injured and on the verge of death. He passed away just days after his return.\\r\\n\\r\\nOtto's wonderful parents, Fred and Cindy Warmbier, are here with us tonight, along with Otto's brother and sister, Austin and Greta. Please. Incredible people. You are powerful witnesses to a menace that threatens our world, and your strength truly inspires us all. Thank you very much. Thank you. Tonight we pledge to honor Otto's memory with total American resolve. Thank you.\\r\\n\\r\\nFinally—[applause]—thank you. We are joined by one more witness to the ominous nature of this regime. His name is Mr. Ji Sung-ho. In 1996, Sung-ho was a starving boy in North Korea. One day, he tried to steal coal from a railroad car to barter for a few scraps of food, which were very hard to get. In the process, he passed out on the train tracks, exhausted from hunger. He woke up as a train ran over his limbs. He then endured multiple amputations without anything to dull the pain or the hurt. His brother and sister gave what little food they had to help him recover and ate dirt themselves, permanently stunting their own growth.\\r\\n\\r\\nLater, he was tortured by North Korean authorities after returning from a brief visit to China. His tormentors wanted to know if he'd met any Christians. He had, and he resolved, after that, to be free. Sung-ho traveled thousands of miles on crutches all across China and Southeast Asia to freedom. Most of his family followed. His father was caught trying to escape and was tortured to death.\\r\\n\\r\\nToday, he lives in Seoul, where he rescues other defectors and broadcasts into North Korea what the regime fears most: the truth. Today, he has a new leg. But, Sung-ho, I understand you still keep those old crutches as a reminder of how far you've come. Your great sacrifice is an inspiration to us all. Please. Thank you. Sung-ho's story is a testament to the yearning of every human soul to live in freedom.\\r\\n\\r\\nIt was that same yearning for freedom that nearly 250 years ago gave birth to a special place called America. It was a small cluster of colonies caught between a great ocean and a vast wilderness. It was home to an incredible people with a revolutionary idea: that they could rule themselves; that they could chart their own destiny; and that, together, they could light up the entire world.\\r\\n\\r\\nThat is what our country has always been about. That is what Americans have always stood for, always strived for, and always done. Atop the dome of this Capitol stands the statue of Freedom. She stands tall and dignified among the monuments to our ancestors who fought and lived and died to protect her: monuments to Washington and Jefferson and Lincoln and King. Memorials to the heroes of Yorktown and Saratoga; to young Americans who shed their blood on the shores of Normandy and the fields beyond; and others, who went down in the waters of the Pacific and the skies all over Asia. And Freedom stands tall over one more monument: this one. This Capitol—this living monument—this is the monument to the American people.\\r\\n\\r\\nAudience members. U.S.A.! U.S.A.! U.S.A.!\\r\\n\\r\\nThe President. We're a people whose heroes live not only in the past, but all around us, defending hope, pride, and defending the American way.\\r\\n\\r\\nThey work in every trade. They sacrifice to raise a family. They care for our children at home. They defend our flag abroad. And they are strong moms and brave kids. They are firefighters and police officers and border agents, medics and marines. But above all else, they are Americans. And this Capitol, this city, this Nation, belongs entirely to them. Our task is to respect them, to listen to them, to serve them, to protect them, and to always be worthy of them.\\r\\n\\r\\nAmericans fill the world with art and music. They push the bounds of science and discovery. And they forever remind us of what we should never, ever forget: The people dreamed this country, the people built this country, and it's the people who are making America great again.\\r\\n\\r\\nAs long as we are proud of who we are and what we are fighting for, there is nothing we cannot achieve. As long as we have confidence in our values, faith in our citizens, and trust in our God, we will never fail. Our families will thrive. Our people will prosper. And our Nation will forever be safe and strong and proud and mighty and free.\\r\\n\\r\\nThank you. And God bless America. Goodnight.Madam Speaker, Mr. Vice President, Members of Congress, the First Lady of the United States — (applause) — and my fellow Americans:\\r\\n\\r\\nWe meet tonight at a moment of unlimited potential. As we begin a new Congress, I stand here ready to work with you to achieve historic breakthroughs for all Americans.\\r\\n\\r\\nMillions of our fellow citizens are watching us now, gathered in this great chamber, hoping that we will govern not as two parties but as one nation. (Applause.)\\r\\n\\r\\nThe agenda I will lay out this evening is not a Republican agenda or a Democrat agenda. It's the agenda of the American people.\\r\\n\\r\\nMany of us have campaigned on the same core promises: to defend American jobs and demand fair trade for American workers; to rebuild and revitalize our nation's infrastructure; to reduce the price of healthcare and prescription drugs; to create an immigration system that is safe, lawful, modern, and secure; and to pursue a foreign policy that puts America's interests first.\\r\\n\\r\\nThere is a new opportunity in American politics, if only we have the courage, together, to seize it. (Applause.) Victory is not winning for our party. Victory is winning for our country. (Applause.)\\r\\n\\r\\nThis year, America will recognize two important anniversaries that show us the majesty of America's mission and the power of American pride.\\r\\n\\r\\nIn June, we mark 75 years since the start of what General Dwight D. Eisenhower called the \\\"Great Crusade\\\" — the Allied liberation of Europe in World War II. (Applause.) On D-Day, June 6th, 1944, 15,000 young American men jumped from the sky, and 60,000 more stormed in from the sea, to save our civilization from tyranny. Here with us tonight are three of those incredible heroes: Private First Class Joseph Reilly, Staff Sergeant Irving Locker, and Sergeant Herman Zeitchik. (Applause.) Please. Gentlemen, we salute you.\\r\\n\\r\\nIn 2019, we also celebrate 50 years since brave young pilots flew a quarter of a million miles through space to plant the American flag on the face of the moon. Half a century later, we are joined by one of the Apollo 11 astronauts who planted that flag: Buzz Aldrin. (Applause.) Thank you, Buzz. This year, American astronauts will go back to space on American rockets. (Applause.)\\r\\n\\r\\nIn the 20th century, America saved freedom, transformed science, redefined the middle class, and, when you get down to it, there's nothing anywhere in the world that can compete with America. (Applause.) Now we must step boldly and bravely into the next chapter of this great American adventure, and we must create a new standard of living for the 21st century. An amazing quality of life for all of our citizens is within reach.\\r\\n\\r\\nWe can make our communities safer, our families stronger, our culture richer, our faith deeper, and our middle class bigger and more prosperous than ever before. (Applause.)\\r\\n\\r\\nBut we must reject the politics of revenge, resistance, and retribution, and embrace the boundless potential of cooperation, compromise, and the common good. (Applause.)\\r\\n\\r\\nTogether, we can break decades of political stalemate. We can bridge old divisions, heal old wounds, build new coalitions, forge new solutions, and unlock the extraordinary promise of America's future. The decision is ours to make.\\r\\n\\r\\nWe must choose between greatness or gridlock, results or resistance, vision or vengeance, incredible progress or pointless destruction.\\r\\n\\r\\nTonight, I ask you to choose greatness. (Applause.)\\r\\n\\r\\nOver the last two years, my administration has moved with urgency and historic speed to confront problems neglected by leaders of both parties over many decades.\\r\\n\\r\\nIn just over two years since the election, we have launched an unprecedented economic boom — a boom that has rarely been seen before. There's been nothing like it. We have created 5.3 million new jobs and, importantly, added 600,000 new manufacturing jobs — something which almost everyone said was impossible to do. But the fact is, we are just getting started. (Applause.)\\r\\n\\r\\nWages are rising at the fastest pace in decades and growing for blue-collar workers, who I promised to fight for. They're growing faster than anyone else thought possible. Nearly 5 million Americans have been lifted off food stamps. (Applause.) The U.S. economy is growing almost twice as fast today as when I took office. And we are considered, far and away, the hottest economy anywhere in the world. Not even close. (Applause.)\\r\\n\\r\\nUnemployment has reached the lowest rate in over half a century. (Applause.) African American, Hispanic American, and Asian American unemployment have all reached their lowest levels ever recorded. (Applause.) Unemployment for Americans with disabilities has also reached an all-time low. (Applause.) More people are working now than at any time in the history of our country — 157 million people at work. (Applause.)\\r\\n\\r\\nWe passed a massive tax cut for working families and doubled the child tax credit. (Applause.)\\r\\n\\r\\nWe virtually ended the estate tax — or death tax, as it is often called — on small businesses for ranchers and also for family farms. (Applause.)\\r\\n\\r\\nWe eliminated the very unpopular Obamacare individual mandate penalty. (Applause.) And to give critically ill patients access to lifesaving cures, we passed, very importantly, Right to Try. (Applause.)\\r\\n\\r\\nMy administration has cut more regulations in a short period of time than any other administration during its entire tenure. (Applause.) Companies are coming back to our country in large numbers thanks to our historic reductions in taxes and regulations. (Applause.)\\r\\n\\r\\nAnd we have unleashed a revolution in American energy. The United States is now the number-one producer of oil and natural gas anywhere in the world. (Applause.) And now, for the first time in 65 years, we are a net exporter of energy. (Applause.)\\r\\n\\r\\nAfter 24 months of rapid progress, our economy is the envy of the world, our military is the most powerful on Earth, by far, and America — (applause) — America is again winning each and every day. (Applause.)\\r\\n\\r\\nMembers of Congress: The state of our union is strong. (Applause.)\\r\\n\\r\\nAUDIENCE: USA! USA! USA!\\r\\n\\r\\nTHE PRESIDENT: That sounds so good. (Laughter.)\\r\\n\\r\\nOur country is vibrant and our economy is thriving like never before.\\r\\n\\r\\nOn Friday, it was announced that we added another 304,000 jobs last month alone — almost double the number expected. (Applause.) An economic miracle is taking place in the United States, and the only thing that can stop it are foolish wars, politics, or ridiculous partisan investigations. (Applause.)\\r\\n\\r\\nIf there is going to be peace and legislation, there cannot be war and investigation. It just doesn't work that way.\\r\\n\\r\\nWe must be united at home to defeat our adversaries abroad. This new era of cooperation can start with finally confirming the more than 300 highly qualified nominees who are still stuck in the Senate. In some cases, years and years waiting. Not right. (Applause.) The Senate has failed to act on these nominations, which is unfair to the nominees and very unfair to our country.\\r\\n\\r\\nNow is the time for bipartisan action. Believe it or not, we have already proven that that's possible.\\r\\n\\r\\nIn the last Congress, both parties came together to pass unprecedented legislation to confront the opioid crisis, a sweeping new farm bill, historic VA reforms. And after four decades of rejection, we passed VA Accountability so that we can finally terminate those who mistreat our wonderful veterans. (Applause.)\\r\\n\\r\\nAnd just weeks ago, both parties united for groundbreaking criminal justice reform. They said it couldn't be done. (Applause.)\\r\\n\\r\\nLast year, I heard, through friends, the story of Alice Johnson. I was deeply moved. In 1997, Alice was sentenced to life in prison as a first-time non-violent drug offender. Over the next 22 years, she became a prison minister, inspiring others to choose a better path. She had a big impact on that prison population, and far beyond.\\r\\n\\r\\nAlice's story underscores the disparities and unfairness that can exist in criminal sentencing, and the need to remedy this total injustice. She served almost that 22 years and had expected to be in prison for the remainder of her life.\\r\\n\\r\\nIn June, I commuted Alice's sentence. When I saw Alice's beautiful family greet her at the prison gates, hugging and kissing and crying and laughing, I knew I did something right. Alice is with us tonight, and she is a terrific woman. Terrific. Alice, please. (Applause.)\\r\\n\\r\\nAlice, thank you for reminding us that we always have the power to shape our own destiny. Thank you very much, Alice. Thank you very much. (Applause.)\\r\\n\\r\\nInspired by stories like Alice's, my administration worked closely with members of both parties to sign the FIRST STEP Act into law. Big deal. (Applause.) It's a big deal.\\r\\n\\r\\nThis legislation reformed sentencing laws that have wrongly and disproportionately harmed the African American community. The FIRST STEP Act gives non-violent offenders the chance to reenter society as productive, law-abiding citizens. Now states across the country are following our lead. America is a nation that believes in redemption.\\r\\n\\r\\nWe are also joined tonight by Matthew Charles from Tennessee. In 1996, at the age of 30, Matthew was sentenced to 35 years for selling drugs and related offenses. Over the next two decades, he completed more than 30 Bible studies, became a law clerk, and mentored many of his fellow inmates.\\r\\n\\r\\nNow, Matthew is the very first person to be released from prison under the FIRST STEP Act. (Applause.) Matthew, please. Thank you, Matthew. Welcome home. (Applause.)\\r\\n\\r\\nNow, Republicans and Democrats must join forces again to confront an urgent national crisis. Congress has 10 days left to pass a bill that will fund our government, protect our homeland, and secure our very dangerous southern border.\\r\\n\\r\\nNow is the time for Congress to show the world that America is committed to ending illegal immigration and putting the ruthless coyotes, cartels, drug dealers, and human traffickers out of business. (Applause.)\\r\\n\\r\\nAs we speak, large, organized caravans are on the march to the United States. We have just heard that Mexican cities, in order to remove the illegal immigrants from their communities, are getting trucks and buses to bring them up to our country in areas where there is little border protection. I have ordered another 3,750 troops to our southern border to prepare for this tremendous onslaught.\\r\\n\\r\\nThis is a moral issue. The lawless state of our southern border is a threat to the safety, security, and financial wellbeing of all America. We have a moral duty to create an immigration system that protects the lives and jobs of our citizens. This includes our obligation to the millions of immigrants living here today who followed the rules and respected our laws. Legal immigrants enrich our nation and strengthen our society in countless ways. (Applause.)\\r\\n\\r\\nI want people to come into our country in the largest numbers ever, but they have to come in legally. (Applause.)\\r\\n\\r\\nTonight, I am asking you to defend our very dangerous southern border out of love and devotion to our fellow citizens and to our country.\\r\\n\\r\\nNo issue better illustrates the divide between America's working class and America's political class than illegal immigration. Wealthy politicians and donors push for open borders while living their lives behind walls, and gates, and guards. (Applause.)\\r\\n\\r\\nMeanwhile, working-class Americans are left to pay the price for mass illegal migration: reduced jobs, lower wages, overburdened schools, hospitals that are so crowded you can't get in, increased crime, and a depleted social safety net. Tolerance for illegal immigration is not compassionate; it is actually very cruel. (Applause.)\\r\\n\\r\\nOne in three women is sexually assaulted on the long journey north. Smugglers use migrant children as human pawns to exploit our laws and gain access to our country. Human traffickers and sex traffickers take advantage of the wide-open areas between our ports of entry to smuggle thousands of young girls and women into the United States and to sell them into prostitution and modern-day slavery.\\r\\n\\r\\nTens of thousands of innocent Americans are killed by lethal drugs that cross our border and flood into our cities, including meth, heroin, cocaine, and fentanyl.\\r\\n\\r\\nThe savage gang, MS-13, now operates in at least 20 different American states, and they almost all come through our southern border. Just yesterday, an MS-13 gang member was taken into custody for a fatal shooting on a subway platform in New York City. We are removing these gang members by the thousands. But until we secure our border, they're going to keep streaming right back in.\\r\\n\\r\\nYear after year, countless Americans are murdered by criminal illegal aliens. I've gotten to know many wonderful Angel moms and dads, and families. No one should ever have to suffer the horrible heartache that they have had to endure.\\r\\n\\r\\nHere tonight is Debra Bissell. Just three weeks ago, Debra's parents, Gerald and Sharon, were burglarized and shot to death in their Reno, Nevada home by an illegal alien. They were in their eighties, and are survived by 4 children, 11 grandchildren, and 20 great-grandchildren. Also here tonight are Gerald and Sharon's granddaughter Heather, and great-granddaughter Madison.\\r\\n\\r\\nTo Debra, Heather, Madison, please stand. Few can understand your pain. Thank you. And thank you for being here. Thank you very much. (Applause.)\\r\\n\\r\\nI will never forget, and I will fight for the memory of Gerald and Sharon that it should never happen again. Not one more American life should be lost because our nation failed to control its very dangerous border.\\r\\n\\r\\nIn the last two years, our brave ICE officers made 266,000 arrests of criminal aliens, including those charged or convicted of nearly 100,000 assaults, 30,000 sex crimes, and 4,000 killings or murders.\\r\\n\\r\\nWe are joined tonight by one of those law enforcement heroes: ICE Special Agent Elvin Hernandez. When Elvin — (applause) — thank you.\\r\\n\\r\\nWhen Elvin was a boy, he and his family legally immigrated to the United States from the Dominican Republic. At the age of eight, Elvin told his dad he wanted to become a Special Agent. Today, he leads investigations into the scourge of international sex trafficking.\\r\\n\\r\\nElvin says that, \\\"If I can make sure these young girls get their justice, I've [really] done my job.\\\" Thanks to his work, and that of his incredible colleagues, more than 300 women and girls have been rescued from the horror of this terrible situation, and more than 1,500 sadistic traffickers have been put behind bars. (Applause.) Thank you, Elvin.\\r\\n\\r\\nWe will always support the brave men and women of law enforcement, and I pledge to you tonight that I will never abolish our heroes from ICE. Thank you. (Applause.)\\r\\n\\r\\nMy administration has sent to Congress a commonsense proposal to end the crisis on the southern border. It includes humanitarian assistance, more law enforcement, drug detection at our ports, closing loopholes that enable child smuggling, and plans for a new physical barrier, or wall, to secure the vast areas between our ports of entry.\\r\\n\\r\\nIn the past, most of the people in this room voted for a wall, but the proper wall never got built. I will get it built. (Applause.)\\r\\n\\r\\nThis is a smart, strategic, see-through steel barrier — not just a simple concrete wall. It will be deployed in the areas identified by the border agents as having the greatest need. And these agents will tell you: Where walls go up, illegal crossings go way, way down. (Applause.)\\r\\n\\r\\nSan Diego used to have the most illegal border crossings in our country. In response, a strong security wall was put in place. This powerful barrier almost completely ended illegal crossings.\\r\\n\\r\\nThe border city of El Paso, Texas used to have extremely high rates of violent crime — one of the highest in the entire country, and considered one of our nation's most dangerous cities. Now, immediately upon its building, with a powerful barrier in place, El Paso is one of the safest cities in our country. Simply put: Walls work, and walls save lives. (Applause.)\\r\\n\\r\\nSo let's work together, compromise, and reach a deal that will truly make America safe.\\r\\n\\r\\nAs we work to defend our people's safety, we must also ensure our economic resurgence continues at a rapid pace. No one has benefitted more from our thriving economy than women, who have filled 58 percent of the newly created jobs last year. (Applause.)\\r\\n\\r\\nYou weren't supposed to do that. Thank you very much. Thank you very much.\\r\\n\\r\\nAll Americans can be proud that we have more women in the workforce than ever before. (Applause.)\\r\\n\\r\\nDon't sit yet. You're going to like this. (Laughter.)\\r\\n\\r\\nAnd exactly one century after Congress passed the constitutional amendment giving women the right to vote, we also have more women serving in Congress than at any time before. (Applause.)\\r\\n\\r\\nAUDIENCE: USA! USA! USA!\\r\\n\\r\\nTHE PRESIDENT: That's great. Really great. And congratulations. That's great.\\r\\n\\r\\nAs part of our commitment to improving opportunity for women everywhere, this Thursday we are launching the first-ever government-wide initiative focused on economic empowerment for women in developing countries.\\r\\n\\r\\nTo build on — (applause) — thank you. To build on our incredible economic success, one priority is paramount: reversing decades of calamitous trade policies. So bad.\\r\\n\\r\\nWe are now making it clear to China that, after years of targeting our industries and stealing our intellectual property, the theft of American jobs and wealth has come to an end. (Applause.) Therefore, we recently imposed tariffs on \\$250 billion of Chinese goods, and now our Treasury is receiving billions and billions of dollars.\\r\\n\\r\\nBut I don't blame China for taking advantage of us; I blame our leaders and representatives for allowing this travesty to happen. I have great respect for President Xi, and we are now working on a new trade deal with China. But it must include real, structural change to end unfair trade practices, reduce our chronic trade deficit, and protect American jobs. (Applause.) Thank you.\\r\\n\\r\\nAnother historic trade blunder was the catastrophe known as NAFTA. I have met the men and women of Michigan, Ohio, Pennsylvania, Indiana, New Hampshire, and many other states whose dreams were shattered by the signing of NAFTA. For years, politicians promised them they would renegotiate for a better deal, but no one ever tried, until now.\\r\\n\\r\\nOur new U.S.-Mexico-Canada Agreement, the USMCA, will replace NAFTA and deliver for American workers like they haven't had delivered to for a long time. I hope you can pass the USMCA into law so that we can bring back our manufacturing jobs in even greater numbers, expand American agriculture, protect intellectual property, and ensure that more cars are proudly stamped with our four beautiful words: \\\"Made in the USA.\\\" (Applause.)\\r\\n\\r\\nTonight, I am also asking you to pass the United States Reciprocal Trade Act, so that if another country places an unfair tariff on an American product, we can charge them the exact same tariff on the exact same product that they sell to us. (Applause.)\\r\\n\\r\\nBoth parties should be able to unite for a great rebuilding of America's crumbling infrastructure. (Applause.)\\r\\n\\r\\nI know that Congress is eager to pass an infrastructure bill, and I am eager to work with you on legislation to deliver new and important infrastructure investment, including investments in the cutting-edge industries of the future. This is not an option. This is a necessity.\\r\\n\\r\\nThe next major priority for me, and for all of us, should be to lower the cost of healthcare and prescription drugs, and to protect patients with preexisting conditions. (Applause.)\\r\\n\\r\\nAlready, as a result of my administration's efforts, in 2018, drug prices experienced their single largest decline in 46 years. (Applause.)\\r\\n\\r\\nBut we must do more. It's unacceptable that Americans pay vastly more than people in other countries for the exact same drugs, often made in the exact same place. This is wrong, this is unfair, and together we will stop it — and we'll stop it fast. (Applause.)\\r\\n\\r\\nI am asking Congress to pass legislation that finally takes on the problem of global freeloading and delivers fairness and price transparency for American patients, finally. (Applause.)\\r\\n\\r\\nWe should also require drug companies, insurance companies, and hospitals to disclose real prices to foster competition and bring costs way down. (Applause.)\\r\\n\\r\\nNo force in history has done more to advance the human condition than American freedom. In recent years — (applause) — in recent years, we have made remarkable progress in the fight against HIV and AIDS. Scientific breakthroughs have brought a once-distant dream within reach. My budget will ask Democrats and Republicans to make the needed commitment to eliminate the HIV epidemic in the United States within 10 years. We have made incredible strides. Incredible. (Applause.) Together, we will defeat AIDS in America and beyond. (Applause.)\\r\\n\\r\\nTonight, I am also asking you to join me in another fight that all Americans can get behind: the fight against childhood cancer. (Applause.)\\r\\n\\r\\nJoining Melania in the gallery this evening is a very brave 10-year-old girl, Grace Eline. Every birthday — (applause) — hi, Grace. (Laughter.) Every birthday since she was four, Grace asked her friends to donate to St. Jude's Children's Hospital. She did not know that one day she might be a patient herself. That's what happened.\\r\\n\\r\\nLast year, Grace was diagnosed with brain cancer. Immediately, she began radiation treatment. At the same time, she rallied her community and raised more than \\$40,000 for the fight against cancer. (Applause.) When Grace completed treatment last fall, her doctors and nurses cheered — they loved her; they still love her — with tears in their eyes as she hung up a poster that read: \\\"Last day of chemo.\\\" (Applause.) Thank you very much, Grace. You are a great inspiration to everyone in this room. Thank you very much.\\r\\n\\r\\nMany childhood cancers have not seen new therapies in decades. My budget will ask Congress for \\$500 million over the next 10 years to fund this critical lifesaving research.\\r\\n\\r\\nTo help support working parents, the time has come to pass School Choice for Americans' children. (Applause.) I am also proud to be the first President to include in my budget a plan for nationwide paid family leave, so that every new parent has the chance to bond with their newborn child. (Applause.)\\r\\n\\r\\nThere could be no greater contrast to the beautiful image of a mother holding her infant child than the chilling displays our nation saw in recent days. Lawmakers in New York cheered with delight upon the passage of legislation that would allow a baby to be ripped from the mother's womb moments from birth. These are living, feeling, beautiful babies who will never get the chance to share their love and their dreams with the world. And then, we had the case of the Governor of Virginia where he stated he would execute a baby after birth.\\r\\n\\r\\nTo defend the dignity of every person, I am asking Congress to pass legislation to prohibit the late-term abortion of children who can feel pain in the mother's womb. (Applause.)\\r\\n\\r\\nLet us work together to build a culture that cherishes innocent life. (Applause.) And let us reaffirm a fundamental truth: All children — born and unborn — are made in the holy image of God.\\r\\n\\r\\nThe final part of my agenda is to protect American security. Over the last two years, we have begun to fully rebuild the United States military, with \\$700 billion last year and \\$716 billion this year.\\r\\n\\r\\nWe are also getting other nations to pay their fair share. (Applause.) Finally. Finally. For years, the United States was being treated very unfairly by friends of ours, members of NATO. But now we have secured, over the last couple of years, more than \\$100 billion of increase in defense spending from our NATO Allies. (Applause.) They said it couldn't be done.\\r\\n\\r\\nAs part of our military build-up, the United States is developing a state-of-the-art missile defense system.\\r\\n\\r\\nUnder my administration, we will never apologize for advancing America's interests.\\r\\n\\r\\nFor example, decades ago, the United States entered into a treaty with Russia in which we agreed to limit and reduce our missile capability. While we followed the agreement and the rules to the letter, Russia repeatedly violated its terms. It's been going on for many years. That is why I announced that the United States is officially withdrawing from the Intermediate-Range Nuclear Forces Treaty, or INF Treaty.\\r\\n\\r\\nPerhaps — (applause) — we really have no choice. Perhaps we can negotiate a different agreement, adding China and others, or perhaps we can't — in which case, we will outspend and out-innovate all others by far. (Applause.)\\r\\n\\r\\nAs part of a bold new diplomacy, we continue our historic push for peace on the Korean Peninsula. Our hostages have come home, nuclear testing has stopped, and there has not been a missile launch in more than 15 months. If I had not been elected President of the United States, we would right now, in my opinion, be in a major war with North Korea. (Applause.)\\r\\n\\r\\nMuch work remains to be done, but my relationship with Kim Jong Un is a good one. Chairman Kim and I will meet again on February 27th and 28th in Vietnam. (Applause.)\\r\\n\\r\\nTwo weeks ago, the United States officially recognized the legitimate government of Venezuela — (applause) — and its new President, Juan Guaidó. (Applause.)\\r\\n\\r\\nWe stand with the Venezuelan people in their noble quest for freedom, and we condemn the brutality of the Maduro regime, whose socialist policies have turned that nation from being the wealthiest in South America into a state of abject poverty and despair. (Applause.)\\r\\n\\r\\nHere in the United States, we are alarmed by the new calls to adopt socialism in our country.\\r\\n\\r\\nAUDIENCE: Booo —\\r\\n\\r\\nTHE PRESIDENT: America was founded on liberty and independence, and not government coercion, domination, and control. (Applause.) We are born free and we will stay free. (Applause.)\\r\\n\\r\\nAUDIENCE: USA! USA! USA!\\r\\n\\r\\nTHE PRESIDENT: Tonight, we renew our resolve that America will never be a socialist country. (Applause.)\\r\\n\\r\\nAUDIENCE: USA! USA! USA!\\r\\n\\r\\nTHE PRESIDENT: One of the most complex set of challenges we face, and have for many years, is in the Middle East. Our approach is based on principled realism, not discredited theories that have failed for decades to yield progress. For this reason, my administration recognized the true capital of Israel, and proudly opened the American Embassy in Jerusalem. (Applause.)\\r\\n\\r\\nOur brave troops have now been fighting in the Middle East for almost 19 years. In Afghanistan and Iraq, nearly 7,000 American heroes have given their lives. More than 52,000 Americans have been badly wounded. We have spent more than \\$7 trillion in fighting wars in the Middle East.\\r\\n\\r\\nAs a candidate for President, I loudly pledged a new approach. Great nations do not fight endless wars. (Applause.)\\r\\n\\r\\nWhen I took office, ISIS controlled more than 20,000 square miles in Iraq and Syria — just two years ago. Today, we have liberated virtually all of the territory from the grip of these bloodthirsty monsters.\\r\\n\\r\\nNow, as we work with our allies to destroy the remnants of ISIS, it is time to give our brave warriors in Syria a warm welcome home.\\r\\n\\r\\nI have also accelerated our negotiations to reach — if possible — a political settlement in Afghanistan. The opposing side is also very happy to be negotiating. Our troops have fought with unmatched valor. And thanks to their bravery, we are now able to pursue a possible political solution to this long and bloody conflict. (Applause.)\\r\\n\\r\\nIn Afghanistan, my administration is holding constructive talks with a number of Afghan groups, including the Taliban. As we make progress in these negotiations, we will be able to reduce our troop's presence and focus on counterterrorism. And we will indeed focus on counterterrorism.\\r\\n\\r\\nWe do not know whether we will achieve an agreement, but we do know that, after two decades of war, the hour has come to at least try for peace. And the other side would like to do the same thing. It's time. (Applause.)\\r\\n\\r\\nAbove all, friend and foe alike must never doubt this nation's power and will to defend our people. Eighteen years ago, violent terrorists attacked the USS Cole. And last month, American forces killed one of the leaders of that attack. (Applause.)\\r\\n\\r\\nWe are honored to be joined tonight by Tom Wibberley, whose son, Navy Seaman Craig Wibberley, was one of the 17 sailors we tragically lost. Tom, we vow to always remember the heroes of the USS Cole. (Applause.) Thank you, Tom.\\r\\n\\r\\nMy administration has acted decisively to confront the world's leading state sponsor of terror: the radical regime in Iran. It is a radical regime. They do bad, bad things.\\r\\n\\r\\nTo ensure this corrupt dictatorship never acquires nuclear weapons, I withdrew the United States from the disastrous Iran nuclear deal. (Applause.)\\r\\n\\r\\nAnd last fall, we put in place the toughest sanctions ever imposed by us on a country.\\r\\n\\r\\nWe will not avert our eyes from a regime that chants \\\"Death to America\\\" and threatens genocide against the Jewish people. (Applause.) We must never ignore the vile poison of anti-Semitism, or those who spread its venomous creed. With one voice, we must confront this hatred anywhere and everywhere it occurs.\\r\\n\\r\\nJust months ago, 11 Jewish-Americans were viciously murdered in an anti-Semitic attack on the Tree of Life synagogue in Pittsburgh. SWAT Officer Timothy Matson raced into the gunfire and was shot seven times chasing down the killer. And he was very successful. Timothy has just had his 12th surgery, and he is going in for many more. But he made the trip to be here with us tonight. Officer Matson, please. (Applause.) Thank you. We are forever grateful. Thank you very much.\\r\\n\\r\\nTonight, we are also joined by Pittsburgh survivor, Judah Samet. He arrived at the synagogue as the massacre began. But not only did Judah narrowly escape death last fall, more than seven decades ago, he narrowly survived the Nazi concentration camps. Today is Judah's 81st birthday. (Applause.)\\r\\n\\r\\nAUDIENCE: (Sings \\\"Happy Birthday.\\\") (Applause.)\\r\\n\\r\\nMR. SAMET: Thank you!\\r\\n\\r\\nTHE PRESIDENT: They wouldn't do that for me, Judah. (Laughter.)\\r\\n\\r\\nJudah says he can still remember the exact moment, nearly 75 years ago, after 10 months in a concentration camp, when he and his family were put on a train and told they were going to another camp. Suddenly, the train screeched to a very strong halt. A soldier appeared. Judah's family braced for the absolute worst. Then, his father cried out with joy, \\\"It's the Americans! It's the Americans!\\\" (Applause.) Thank you.\\r\\n\\r\\nA second Holocaust survivor who is here tonight, Joshua Kaufman, was a prisoner at Dachau. He remembers watching through a hole in the wall of a cattle car as American soldiers rolled in with tanks. \\\"To me,\\\" Joshua recalls, \\\"the American soldiers were proof that God exists, and they came down from the sky.\\\" They came down from Heaven.\\r\\n\\r\\nI began this evening by honoring three soldiers who fought on D-Day in the Second World War. One of them was Herman Zeitchik. But there is more to Herman's story. A year after he stormed the beaches of Normandy, Herman was one of the American soldiers who helped liberate Dachau. (Applause.) He was one of the Americans who helped rescue Joshua from that hell on Earth.\\r\\n\\r\\nAlmost 75 years later, Herman and Joshua are both together in the gallery tonight, seated side-by-side, here in the home of American freedom. Herman and Joshua, your presence this evening is very much appreciated. Thank you very much. (Applause.) Thank you.\\r\\n\\r\\nWhen American soldiers set out beneath the dark skies over the English Channel in the early hours of D-Day, 1944, they were just young men of 18 and 19, hurtling on fragile landing craft toward the most momentous battle in the history of war.\\r\\n\\r\\nThey did not know if they would survive the hour. They did not know if they would grow old. But they knew that America had to prevail. Their cause was this nation and generations yet unborn.\\r\\n\\r\\nWhy did they do it? They did it for America. They did it for us.\\r\\n\\r\\nEverything that has come since — our triumph over communism, our giant leaps of science and discovery, our unrivaled progress towards equality and justice — all of it is possible thanks to the blood and tears and courage and vision of the Americans who came before.\\r\\n\\r\\nThink of this Capitol. Think of this very Chamber, where lawmakers before you voted to end slavery, to build the railroads and the highways, and defeat fascism, to secure civil rights, and to face down evil empires.\\r\\n\\r\\nHere tonight, we have legislators from across this magnificent republic. You have come from the rocky shores of Maine and the volcanic peaks of Hawaii; from the snowy woods of Wisconsin and the red deserts of Arizona; from the green farms of Kentucky and the golden beaches of California. Together, we represent the most extraordinary nation in all of history.\\r\\n\\r\\nWhat will we do with this moment? How will we be remembered?\\r\\n\\r\\nI ask the men and women of this Congress: Look at the opportunities before us. Our most thrilling achievements are still ahead. Our most exciting journeys still await. Our biggest victories are still to come. We have not yet begun to dream.\\r\\n\\r\\nWe must choose whether we are defined by our differences or whether we dare to transcend them.\\r\\n\\r\\nWe must choose whether we squander our great inheritance or whether we proudly declare that we are Americans.\\r\\n\\r\\nWe do the incredible. We defy the impossible. We conquer the unknown.\\r\\n\\r\\nThis is the time to reignite the American imagination. This is the time to search for the tallest summit and set our sights on the brightest star. This is the time to rekindle the bonds of love and loyalty and memory that link us together as citizens, as neighbors, as patriots.\\r\\n\\r\\nThis is our future, our fate, and our choice to make. I am asking you to choose greatness.\\r\\n\\r\\nNo matter the trials we face, no matter the challenges to come, we must go forward together.\\r\\n\\r\\nWe must keep America first in our hearts. We must keep freedom alive in our souls. And we must always keep faith in America's destiny that one nation, under God, must be the hope and the promise, and the light and the glory, among all the nations of the world.\\r\\n\\r\\nThank you. God bless you. And God bless America. Thank you very much. Thank you. (Applause.)\""
      ]
     },
     "execution_count": 53,
     "metadata": {},
     "output_type": "execute_result"
    }
   ],
   "source": [
    "obama = bulk_upload([\"obama_2009.txt\", \"obama_2010.txt\", \"obama_2011.txt\", \"obama_2012.txt\", \n",
    "        \"obama_2013.txt\", \"obama_2014.txt\", \"obama_2015.txt\", \"obama_2016.txt\"])\n",
    "trump = bulk_upload([\"trump_2017.txt\", \"trump_2018.txt\", \"trump_2019.txt\"])"
   ]
  },
  {
   "cell_type": "code",
   "execution_count": 66,
   "metadata": {},
   "outputs": [
    {
     "data": {
      "text/plain": [
       "24"
      ]
     },
     "execution_count": 66,
     "metadata": {},
     "output_type": "execute_result"
    }
   ],
   "source": [
    "word_count(obama, \"hope\")"
   ]
  },
  {
   "cell_type": "code",
   "execution_count": 62,
   "metadata": {
    "scrolled": false
   },
   "outputs": [
    {
     "name": "stdout",
     "output_type": "stream",
     "text": [
      "37: Second, we have launched a housing plan that will help responsible families facing the threat of foreclosure lower their monthly payments and refinance their mortgages. It's a plan that won't help speculators or that neighbor down the street who bought a house he could never hope to afford, but it will help millions of Americans who are struggling with declining home values; Americans who will now be able to take advantage of the lower interest rates that this plan has already helped to bring about. In fact, the average family who refinances today can save nearly $2,000 per year on their mortgage.\n",
      "\n",
      "81: This budget builds on these reforms. It includes a historic commitment to comprehensive health care reform, a down payment on the principle that we must have quality, affordable health care for every American. It's a commitment that's paid for in part by efficiencies in our system that are long overdue. And it's a step we must take if we hope to bring down our deficit in the years to come.\n",
      "\n",
      "135: I know that it's easy to lose sight of this truth, to become cynical and doubtful, consumed with the petty and the trivial. But in my life, I have also learned that hope is found in unlikely places, that inspiration often comes not from those with the most power or celebrity, but from the dreams and aspirations of ordinary Americans who are anything but ordinary.\n",
      "\n",
      "141: I think about Ty'Sheoma Bethea, the young girl from that school I visited in Dillon, South Carolina, a place where the ceilings leak, the paint peels off the walls, and they have to stop teaching six times a day because the train barrels by their classroom. She had been told that her school is hopeless, but the other day after class she went to the public library and typed up a letter to the people sitting in this Chamber. She even asked her principal for the money to buy a stamp. The letter asks us for help and says: \"We are just students trying to become lawyers, doctors, Congressmen like yourself, and one day President, so we can make a change to not just the State of South Carolina, but also the world. We are not quitters.\" That's what she said: \"We are not quitters.\"\n",
      "\n",
      "163: So we face big and difficult challenges. And what the American people hope, what they deserve, is for all of us, Democrats and Republicans, to work through our differences, to overcome the numbing weight of our politics. For while the people who sent us here have different backgrounds, different stories, different beliefs, the anxieties they face are the same. The aspirations they hold are shared: a job that pays the bills, a chance to get ahead, most of all, the ability to give their children a better life.\n",
      "\n",
      "165: And you know what else they share? They share a stubborn resilience in the face of adversity. After one of the most difficult years in our history, they remain busy building cars and teaching kids, starting businesses and going back to school. They're coaching Little League and helping their neighbors. One woman wrote to me and said, \"We are strained but hopeful, struggling but encouraged.\"\n",
      "\n",
      "167: It's because of this spirit, this great decency and great strength, that I have never been more hopeful about America's future than I am tonight. Despite our hardships, our Union is strong. We do not give up. We do not quit. We do not allow fear or division to break our spirit. In this new decade, it's time the American people get a Government that matches their decency, that embodies their strength. And tonight I'd like to talk about how together we can deliver on that promise.\n",
      "\n",
      "291: Now, throughout our history, no issue has united this country more than our security. Sadly, some of the unity we felt after 9/11 has dissipated. And we can argue all we want about who's to blame for this, but I'm not interested in relitigating the past. I know that all of us love this country. All of us are committed to its defense. So let's put aside the schoolyard taunts about who's tough. Let's reject the false choice between protecting our people and upholding our values. Let's leave behind the fear and division and do what it takes to defend our Nation and forge a more hopeful future for America and for the world.\n",
      "\n",
      "339: We are part of the American family. We believe that in a country where every race and faith and point of view can be found, we are still bound together as one people, that we share common hopes and a common creed, that the dreams of a little girl in Tucson are not so different than those of our own children, that they all deserve the chance to be fulfilled. That too is what sets us apart as a nation.\n",
      "\n",
      "411: Because people need to be able to train for new jobs and careers in today's fast-changing economy, we're also revitalizing America's community colleges. Last month, I saw the promise of these schools at Forsyth Tech in North Carolina. Many of the students there used to work in the surrounding factories that have since left town. One mother of two, a woman named Kathy Proctor, had worked in the furniture industry since she was 18 years old. And she told me she's earning her degree in biotechnology now, at 55 years old, not just because the furniture jobs are gone, but because she wants to inspire her children to pursue their dreams too. As Kathy said, \"I hope it tells them to never give up.\"\n",
      "\n",
      "549: The idea of America endures. Our destiny remains our choice. And tonight, more than two centuries later, it's because of our people that our future is hopeful, our journey goes forward, and the state of our Union is strong.\n",
      "\n",
      "739: We've made it clear that America is a Pacific power, and a new beginning in Burma has lit a new hope. From the coalitions we've built to secure nuclear materials to the missions we've led against hunger and disease, from the blows we've dealt to our enemies to the enduring power of our moral example, America is back.\n",
      "\n",
      "755: So it is with America. Each time I look at that flag, I'm reminded that our destiny is stitched together like those 50 stars and those 13 stripes. No one built this country on their own. This Nation is great because we built it together. This Nation is great because we worked as a team. This Nation is great because we get each other's backs. And if we hold fast to that truth, in this moment of trial, there is no challenge too great, no mission too hard. As long as we are joined in common purpose, as long as we maintain our common resolve, our journey moves forward, and our future is hopeful, and the state of our Union will always be strong.\n",
      "\n",
      "853: Our economy is stronger when we harness the talents and ingenuity of striving, hopeful immigrants. And right now leaders from the business, labor, law enforcement, faith communities, they all agree that the time has come to pass comprehensive immigration reform. Now is the time to do it. Now is the time to get it done. [Applause] Now is the time to get it done.\n",
      "\n",
      "905: You see, America must remain a beacon to all who seek freedom during this period of historic change. I saw the power of hope last year in Rangoon, in Burma, when Aung San Suu Kyi welcomed an American President into the home where she had been imprisoned for years; when thousands of Burmese lined the streets, waving American flags, including a man who said: \"There is justice and law in the United States. I want our country to be like that.\"\n",
      "\n",
      "955: And in the coming months, let's see where else we can make progress together. Let's make this a year of action. That's what most Americans want: for all of us in this Chamber to focus on their lives, their hopes, their aspirations. And what I believe unites the people of this Nation—regardless of race or region or party, young or old, rich or poor—is the simple, profound belief in opportunity for all: the notion that if you work hard and take responsibility, you can get ahead in America.\n",
      "\n",
      "1217: As His Holiness Pope Francis has said, diplomacy is the work of \"small steps.\" And these small steps have added up to new hope for the future in Cuba. And after years in prison, we are overjoyed that Alan Gross is back where he belongs. Welcome home, Alan. We're glad you're here.\n",
      "\n",
      "1235: In Beijing, we made a historic announcement: The United States will double the pace at which we cut carbon pollution. And China committed, for the first time, to limiting their emissions. And because the world's two largest economies came together, other nations are now stepping up and offering hope that this year the world will finally reach an agreement to protect the one planet we've got.\n",
      "\n",
      "1251: I believe this because over and over in my 6 years in office, I have seen America at its best. I've seen the hopeful faces of young graduates from New York to California and our newest officers at West Point, Annapolis, Colorado Springs, New London. I've mourned with grieving families in Tucson and Newtown, in Boston, in West, Texas, and West Virginia. I've watched Americans beat back adversity from the Gulf Coast to the Great Plains, from Midwest assembly lines to the Mid-Atlantic seaboard. I've seen something like gay marriage go from a wedge issue used to drive us apart to a story of freedom across our country, a civil right now legal in States that 7 in 10 Americans call home. So I know the good and optimistic and big-hearted generosity of the American people who every day live the idea that we are our brother's keeper and our sister's keeper. And I know they expect those of us who serve here to set a better example.\n",
      "\n",
      "1253: So the question for those of us here tonight is how we, all of us, can better reflect America's hopes. I've served in Congress with many of you. I know many of you well. There are a lot of good people here on both sides of the aisle. And many of you have told me that this isn't what you signed up for: arguing past each other on cable shows, the constant fundraising, always looking over your shoulder at how the base will react to every decision.\n",
      "\n",
      "1275: The President. I know because I won both of them. [Laughter] My only agenda for the next 2 years is the same as the one I've had since the day I swore an oath on the steps of this Capitol: to do what I believe is best for America. If you share the broad vision I outlined tonight, I ask you to join me in the work at hand. If you disagree with parts of it, I hope you'll at least work with me where you do agree. And I commit to every Republican here tonight that I will not only seek out your ideas, I will seek to work with you to make this country stronger.\n"
     ]
    },
    {
     "name": "stdout",
     "output_type": "stream",
     "text": [
      "\n",
      "1287: Now, I understand that because it's an election season, expectations for what we will achieve this year are low. But, Mr. Speaker, I appreciate the constructive approach that you and other leaders took at the end of last year to pass a budget and make tax cuts permanent for working families. So I hope we can work together this year on some bipartisan priorities like criminal justice reform and helping people who are battling prescription drug abuse and heroin abuse. So, who knows, we might surprise the cynics again.\r\n",
      "\n",
      "1403: What I'm suggesting is hard. It's a lot easier to be cynical; to accept that change is not possible and politics is hopeless and the problem is, all the folks who are elected don't care; and to believe that our voices and our actions don't matter. But if we give up now, then we forsake a better future. Those with money and power will gain greater control over the decisions that could send a young soldier to war or allow another economic disaster or roll back the equal rights and voting rights that generations of Americans have fought, even died, to secure. And then, as frustration grows, there will be voices urging us to fall back into our respective tribes, to scapegoat fellow citizens who don't look like us or pray like us or vote like we do or share the same background.\r\n",
      "\n",
      "1421: That's the America I know. That's the country we love: clear eyed, big hearted, undaunted by challenge. Optimistic that unarmed truth and unconditional love will have the final word. That's what makes me so hopeful about our future. I believe in change because I believe in you, the American people. And that's why I stand here as confident as I have ever been that the state of our Union is strong.\r\n",
      "\n"
     ]
    }
   ],
   "source": [
    "find_lines_with_word(obama, \"hope\")"
   ]
  },
  {
   "cell_type": "code",
   "execution_count": 63,
   "metadata": {},
   "outputs": [
    {
     "data": {
      "text/plain": [
       "14"
      ]
     },
     "execution_count": 63,
     "metadata": {},
     "output_type": "execute_result"
    }
   ],
   "source": [
    "word_count(trump, \"hope\")"
   ]
  },
  {
   "cell_type": "code",
   "execution_count": 64,
   "metadata": {},
   "outputs": [
    {
     "name": "stdout",
     "output_type": "stream",
     "text": [
      "17: Dying industries will come roaring back to life. Heroic veterans will get the care they so desperately need. Our military will be given the resources its brave warriors so richly deserve. Crumbling infrastructure will be replaced with new roads, bridges, tunnels, airports, and railways gleaming across our very, very beautiful land. Our terrible drug epidemic will slow down and, ultimately, stop. And our neglected inner cities will see a rebirth of hope, safety, and opportunity. Above all else, we will keep our promises to the American people. [Applause] Thank you.\r\n",
      "\n",
      "99: Everything that is broken in our country can be fixed. Every problem can be solved. And every hurting family can find healing and hope.\r\n",
      "\n",
      "157: America is friends today with former enemies. Some of our closest allies, decades ago, fought on the opposite side of these terrible, terrible wars. This history should give us all faith in the possibilities for a better world. Hopefully, the 250th year for America will see a world that is more peaceful, more just, and more free.\r\n",
      "\n",
      "159: On our 100th anniversary, in 1876, citizens from across our Nation came to Philadelphia to celebrate America's centennial. At that celebration, the country's builders and artists and inventors showed off their wonderful creations. Alexander Graham Bell displayed his telephone for the first time. Remington unveiled the first typewriter. An early attempt was made at electric light. Thomas Edison showed an automatic telegraph and an electric pen. Imagine the wonders our country could know in America's 250th year. Think of the marvels we can achieve if we simply set free the dreams of our people. Cures to the illnesses that have always plagued us are not too much to hope. American footprints on distant worlds are not too big a dream. Millions lifted from welfare to work is not too much to expect. And streets where mothers are safe from fear, schools where children learn in peace, and jobs where Americans prosper and grow are not too much to ask.\r\n",
      "\n",
      "163: When we fulfill this vision, when we celebrate our 250 years of glorious freedom, we will look back on tonight as when this new chapter of American greatness began. The time for small thinking is over. The time for trivial fights is behind us. We just need the courage to share the dreams that fill our hearts, the bravery to express the hopes that stir our souls, and the confidence to turn those hopes and those dreams into action.\r\n",
      "\n",
      "169: Thank you, God bless you, and God bless the United States.The President. Mr. Speaker, Mr. Vice President, Members of Congress, the First Lady of the United States, and my fellow Americans: Less than 1 year has passed since I first stood at this podium, in this majestic Chamber, to speak on behalf of the American people and to address their concerns, their hopes, and their dreams. That night, our new administration had already taken very swift action. A new tide of optimism was already sweeping across our land. Each day since, we have gone forward with a clear vision and a righteous mission: to make America great again for all Americans.\r\n",
      "\n",
      "269: In that moment, Ryan said he felt God speak to him: \"You will do it, because you can.\" He heard those words. He took out a picture of his wife and their four kids. Then, he went home to tell his wife Rebecca. In an instant, she agreed to adopt. The Holets named their new daughter Hope. Ryan and Rebecca, you embody the goodness of our Nation. Thank you. Thank you, Ryan and Rebecca.\r\n",
      "\n",
      "273: For this reason, I am asking Congress to end the dangerous defense sequester and fully fund our great military. As part of our defense, we must modernize and rebuild our nuclear arsenal, hopefully, never having to use it, but making it so strong and so powerful that it will deter any acts of aggression by any other nation or anyone else. Perhaps someday in the future, there will be a magical moment when the countries of the world will get together to eliminate their nuclear weapons. Unfortunately, we are not there yet, sadly.\r\n",
      "\n",
      "277: Army Staff Sergeant Justin Peck is here tonight. Near Raqqa, last November, Justin and his comrade, Chief Petty Officer Kenton Stacy, were on a mission to clear buildings that ISIS had rigged with explosive so that civilians could return to that city, hopefully, soon and, hopefully, safely.\r\n",
      "\n",
      "311: The President. We're a people whose heroes live not only in the past, but all around us, defending hope, pride, and defending the American way.\r\n",
      "\n",
      "481: Our new U.S.-Mexico-Canada Agreement, the USMCA, will replace NAFTA and deliver for American workers like they haven't had delivered to for a long time. I hope you can pass the USMCA into law so that we can bring back our manufacturing jobs in even greater numbers, expand American agriculture, protect intellectual property, and ensure that more cars are proudly stamped with our four beautiful words: \"Made in the USA.\" (Applause.)\r\n",
      "\n",
      "623: We must keep America first in our hearts. We must keep freedom alive in our souls. And we must always keep faith in America's destiny that one nation, under God, must be the hope and the promise, and the light and the glory, among all the nations of the world.\r\n",
      "\n"
     ]
    }
   ],
   "source": [
    "find_lines_with_word(trump, \"hope\")"
   ]
  },
  {
   "cell_type": "code",
   "execution_count": 70,
   "metadata": {},
   "outputs": [
    {
     "data": {
      "text/plain": [
       "14.375"
      ]
     },
     "execution_count": 70,
     "metadata": {},
     "output_type": "execute_result"
    }
   ],
   "source": [
    "word_count(obama, \"war\") / 8"
   ]
  },
  {
   "cell_type": "code",
   "execution_count": 69,
   "metadata": {},
   "outputs": [
    {
     "data": {
      "text/plain": [
       "11.333333333333334"
      ]
     },
     "execution_count": 69,
     "metadata": {},
     "output_type": "execute_result"
    }
   ],
   "source": [
    "word_count(trump, \"war\") / 3"
   ]
  },
  {
   "cell_type": "code",
   "execution_count": 72,
   "metadata": {},
   "outputs": [
    {
     "data": {
      "text/plain": [
       "31.5"
      ]
     },
     "execution_count": 72,
     "metadata": {},
     "output_type": "execute_result"
    }
   ],
   "source": [
    "word_count(obama, \"very\") / 8"
   ]
  },
  {
   "cell_type": "code",
   "execution_count": 71,
   "metadata": {},
   "outputs": [
    {
     "data": {
      "text/plain": [
       "38.666666666666664"
      ]
     },
     "execution_count": 71,
     "metadata": {},
     "output_type": "execute_result"
    }
   ],
   "source": [
    "word_count(trump, \"very\") / 3"
   ]
  },
  {
   "cell_type": "code",
   "execution_count": 76,
   "metadata": {},
   "outputs": [
    {
     "data": {
      "text/plain": [
       "6.0"
      ]
     },
     "execution_count": 76,
     "metadata": {},
     "output_type": "execute_result"
    }
   ],
   "source": [
    "word_count(obama, \"big\") / 8"
   ]
  },
  {
   "cell_type": "code",
   "execution_count": 75,
   "metadata": {},
   "outputs": [
    {
     "data": {
      "text/plain": [
       "3.6666666666666665"
      ]
     },
     "execution_count": 75,
     "metadata": {},
     "output_type": "execute_result"
    }
   ],
   "source": [
    "word_count(trump, \"big\") / 3"
   ]
  },
  {
   "cell_type": "markdown",
   "metadata": {},
   "source": [
    "# Words Specific to Obama/Trump "
   ]
  },
  {
   "cell_type": "code",
   "execution_count": 14,
   "metadata": {},
   "outputs": [
    {
     "data": {
      "text/plain": [
       "Set(SubString{String}[\"enriching\", \"ferret\", \"falls\", \"offend\", \"billions\", \"who've\", \"doctor\", \"enjoy\", \"whoever\", \"fight\"  …  \"power\", \"summon\", \"prerequisite\", \"renew\", \"goes\", \"draw\", \"plotting\", \"forebears\", \"reckoning\", \"popular\", \"funds\"])"
      ]
     },
     "execution_count": 14,
     "metadata": {},
     "output_type": "execute_result"
    }
   ],
   "source": [
    "o_total_word_set = union(get_unique_word_set(\"obama_2009.txt\"), \n",
    "    get_unique_word_set(\"obama_2010.txt\"), \n",
    "    get_unique_word_set(\"obama_2011.txt\"),\n",
    "    get_unique_word_set(\"obama_2012.txt\"), \n",
    "    get_unique_word_set(\"obama_2013.txt\"),\n",
    "    get_unique_word_set(\"obama_2014.txt\"), \n",
    "    get_unique_word_set(\"obama_2015.txt\"),\n",
    "    get_unique_word_set(\"obama_2016.txt\"))"
   ]
  },
  {
   "cell_type": "code",
   "execution_count": 17,
   "metadata": {},
   "outputs": [
    {
     "data": {
      "text/plain": [
       "Set(SubString{String}[\"billions\", \"doctor\", \"fight\", \"everywhere\", \"helping\", \"during\", \"whose\", \"prostitution\", \"borders\", \"scene\"  …  \"crimes\", \"maybe\", \"tax\", \"exhausted\", \"debra's\", \"power\", \"summon\", \"goes\", \"renew\", \"heal\", \"funds\"])"
      ]
     },
     "execution_count": 17,
     "metadata": {},
     "output_type": "execute_result"
    }
   ],
   "source": [
    "t_total_word_set = union(get_unique_word_set(\"trump_2017.txt\"), \n",
    "    get_unique_word_set(\"trump_2018.txt\"), \n",
    "    get_unique_word_set(\"trump_2019.txt\"))"
   ]
  },
  {
   "cell_type": "code",
   "execution_count": 18,
   "metadata": {},
   "outputs": [
    {
     "data": {
      "text/plain": [
       "3101"
      ]
     },
     "execution_count": 18,
     "metadata": {},
     "output_type": "execute_result"
    }
   ],
   "source": [
    "length(t_total_word_set)"
   ]
  },
  {
   "cell_type": "code",
   "execution_count": 19,
   "metadata": {},
   "outputs": [
    {
     "data": {
      "text/plain": [
       "Set(SubString{String}[\"enriching\", \"ferret\", \"falls\", \"offend\", \"who've\", \"enjoy\", \"whoever\", \"schedule\", \"manufacture\", \"sleepless\"  …  \"ethnicity\", \"bears\", \"attract\", \"reestablishing\", \"woman's\", \"prerequisite\", \"draw\", \"plotting\", \"forebears\", \"reckoning\", \"popular\"])"
      ]
     },
     "execution_count": 19,
     "metadata": {},
     "output_type": "execute_result"
    }
   ],
   "source": [
    "o_unique = setdiff(o_total_word_set, t_total_word_set)"
   ]
  },
  {
   "cell_type": "code",
   "execution_count": 21,
   "metadata": {},
   "outputs": [
    {
     "data": {
      "text/plain": [
       "Set(SubString{String}[\"prostitution\", \"hampshire\", \"dethroned\", \"24\", \"mandates\", \"houston\", \"chart\", \"rescues\", \"17\", \"needy\"  …  \"heather\", \"sales\", \"burglarized\", \"silenced\", \"celebration\", \"unify\", \"vetting\", \"inmates\", \"exhausted\", \"debra's\", \"heal\"])"
      ]
     },
     "execution_count": 21,
     "metadata": {},
     "output_type": "execute_result"
    }
   ],
   "source": [
    "t_unique = setdiff(t_total_word_set, o_total_word_set)"
   ]
  },
  {
   "cell_type": "code",
   "execution_count": 22,
   "metadata": {},
   "outputs": [
    {
     "data": {
      "text/plain": [
       "3156"
      ]
     },
     "execution_count": 22,
     "metadata": {},
     "output_type": "execute_result"
    }
   ],
   "source": [
    "length(o_unique)"
   ]
  },
  {
   "cell_type": "code",
   "execution_count": 23,
   "metadata": {},
   "outputs": [
    {
     "data": {
      "text/plain": [
       "1092"
      ]
     },
     "execution_count": 23,
     "metadata": {},
     "output_type": "execute_result"
    }
   ],
   "source": [
    "length(t_unique)"
   ]
  },
  {
   "cell_type": "code",
   "execution_count": 40,
   "metadata": {},
   "outputs": [
    {
     "name": "stdout",
     "output_type": "stream",
     "text": [
      "15: In June, we mark 75 years since the start of what General Dwight D. Eisenhower called the \"Great Crusade\" — the Allied liberation of Europe in World War II. (Applause.) On D-Day, June 6th, 1944, 15,000 young American men jumped from the sky, and 60,000 more stormed in from the sea, to save our civilization from tyranny. Here with us tonight are three of those incredible heroes: Private First Class Joseph Reilly, Staff Sergeant Irving Locker, and Sergeant Herman Zeitchik. (Applause.) Please. Gentlemen, we salute you. \n",
      "\n",
      "75: In June, I commuted Alice's sentence. When I saw Alice's beautiful family greet her at the prison gates, hugging and kissing and crying and laughing, I knew I did something right. Alice is with us tonight, and she is a terrific woman. Terrific. Alice, please. (Applause.) \n",
      "\n",
      "103: One in three women is sexually assaulted on the long journey north. Smugglers use migrant children as human pawns to exploit our laws and gain access to our country. Human traffickers and sex traffickers take advantage of the wide-open areas between our ports of entry to smuggle thousands of young girls and women into the United States and to sell them into prostitution and modern-day slavery. \n",
      "\n",
      "111: Here tonight is Debra Bissell. Just three weeks ago, Debra's parents, Gerald and Sharon, were burglarized and shot to death in their Reno, Nevada home by an illegal alien. They were in their eighties, and are survived by 4 children, 11 grandchildren, and 20 great-grandchildren. Also here tonight are Gerald and Sharon's granddaughter Heather, and great-granddaughter Madison. \n",
      "\n",
      "193: There could be no greater contrast to the beautiful image of a mother holding her infant child than the chilling displays our nation saw in recent days. Lawmakers in New York cheered with delight upon the passage of legislation that would allow a baby to be ripped from the mother's womb moments from birth. These are living, feeling, beautiful babies who will never get the chance to share their love and their dreams with the world. And then, we had the case of the Governor of Virginia where he stated he would execute a baby after birth. \n",
      "\n",
      "259: Just months ago, 11 Jewish-Americans were viciously murdered in an anti-Semitic attack on the Tree of Life synagogue in Pittsburgh. SWAT Officer Timothy Matson raced into the gunfire and was shot seven times chasing down the killer. And he was very successful. Timothy has just had his 12th surgery, and he is going in for many more. But he made the trip to be here with us tonight. Officer Matson, please. (Applause.) Thank you. We are forever grateful. Thank you very much. \n",
      "\n",
      "261: Tonight, we are also joined by Pittsburgh survivor, Judah Samet. He arrived at the synagogue as the massacre began. But not only did Judah narrowly escape death last fall, more than seven decades ago, he narrowly survived the Nazi concentration camps. Today is Judah's 81st birthday. (Applause.) \n",
      "\n"
     ]
    }
   ],
   "source": [
    "print_unique_lines(raw\"transcripts\\trump_2019.txt\", t_unique, 13)"
   ]
  },
  {
   "cell_type": "code",
   "execution_count": 42,
   "metadata": {},
   "outputs": [
    {
     "name": "stdout",
     "output_type": "stream",
     "text": [
      "67: Here tonight are two fathers and two mothers: Evelyn Rodriguez, Freddy Cuevas, Elizabeth Alvarado, and Robert Mickens. Their two teenage daughters—Kayla Cuevas and Nisa Mickens—were close friends on Long Island. But in September 2016, on the eve of Nisa's 16th birthday—such a happy time it should have been—neither of them came home. These two precious girls were brutally murdered while walking together in their hometown. \n",
      "\n",
      "69: Six members of the savage MS-13 gang have been charged with Kayla and Nisa's murders. Many of these gang members took advantage of glaring loopholes in our laws to enter the country as illegal, unaccompanied alien minors, and wound up in Kayla and Nisa's high school. Evelyn, Elizabeth, Freddy, and Robert: Tonight everyone in this chamber is praying for you. Everyone in America is grieving for you. Please stand. Thank you very much. I want you to know that 320 million hearts are right now breaking for you. We love you. Thank you. \n",
      "\n",
      "111: Clearing the second floor of a vital hospital, Kenton Stacy was severely wounded by an explosion. Immediately, Justin bounded into the booby-trapped and unbelievably dangerous and unsafe building, and found Kenton, but in very, very bad shape. He applied pressure to the wound and inserted a tube to reopen an airway. He then performed CPR for 20 straight minutes during the ground transport and maintained artificial respiration through 2½ hours and through emergency surgery. \n",
      "\n",
      "113: Kenton Stacy would have died if it were not for Justin's selfless love for his fellow warrior. Tonight Kenton is recovering in Texas, Raqqa is liberated, and Justin is wearing his new Bronze Star, with a \"V\" for valor. Staff Sergeant Peck, all of America salutes you. \n",
      "\n",
      "131: Finally—[applause]—thank you. We are joined by one more witness to the ominous nature of this regime. His name is Mr. Ji Sung-ho. In 1996, Sung-ho was a starving boy in North Korea. One day, he tried to steal coal from a railroad car to barter for a few scraps of food, which were very hard to get. In the process, he passed out on the train tracks, exhausted from hunger. He woke up as a train ran over his limbs. He then endured multiple amputations without anything to dull the pain or the hurt. His brother and sister gave what little food they had to help him recover and ate dirt themselves, permanently stunting their own growth. \n",
      "\n",
      "139: That is what our country has always been about. That is what Americans have always stood for, always strived for, and always done. Atop the dome of this Capitol stands the statue of Freedom. She stands tall and dignified among the monuments to our ancestors who fought and lived and died to protect her: monuments to Washington and Jefferson and Lincoln and King. Memorials to the heroes of Yorktown and Saratoga; to young Americans who shed their blood on the shores of Normandy and the fields beyond; and others, who went down in the waters of the Pacific and the skies all over Asia. And Freedom stands tall over one more monument: this one. This Capitol—this living monument—this is the monument to the American people. \n",
      "\n"
     ]
    }
   ],
   "source": [
    "print_unique_lines(raw\"transcripts\\trump_2018.txt\", t_unique, 15)"
   ]
  },
  {
   "cell_type": "code",
   "execution_count": 43,
   "metadata": {},
   "outputs": [
    {
     "name": "stdout",
     "output_type": "stream",
     "text": [
      "53: I am greatly honored to have Maureen Scalia with us in the gallery tonight. Thank you, Maureen. Her late, great husband, Antonin Scalia, will forever be a symbol of American justice. To fill his seat, we have chosen Judge Neil Gorsuch, a man of incredible skill and deep devotion to the law. He was confirmed unanimously by the Court of Appeals, and I am asking the Senate to swiftly approve his nomination. \n",
      "\n",
      "129: Also with us are Susan Oliver and Jessica Davis. Their husbands, Deputy Sheriff Danny Oliver and Detective Michael Davis, were slain in the line of duty in California. They were pillars of their community. These brave men were viciously gunned down by an illegal immigrant with a criminal record and two prior deportations. Should have never been in our country. \n",
      "\n",
      "141: We are blessed to be joined tonight by Carryn Owens, the widow of U.S. Navy Special Operator, Senior Chief William \"Ryan\" Owens. Ryan died as he lived: a warrior and a hero, battling against terrorism and securing our Nation. I just spoke to our great General Mattis, just now, who reconfirmed that—and I quote—\"Ryan was a part of a highly successful raid that generated large amounts of vital intelligence that will lead to many more victories in the future against our enemy.\" Ryan's legacy is etched into eternity. Thank you. [Applause] And Ryan is looking down, right now—you know that—and he is very happy because I think he just broke a record. [Laughter] \n",
      "\n",
      "159: On our 100th anniversary, in 1876, citizens from across our Nation came to Philadelphia to celebrate America's centennial. At that celebration, the country's builders and artists and inventors showed off their wonderful creations. Alexander Graham Bell displayed his telephone for the first time. Remington unveiled the first typewriter. An early attempt was made at electric light. Thomas Edison showed an automatic telegraph and an electric pen. Imagine the wonders our country could know in America's 250th year. Think of the marvels we can achieve if we simply set free the dreams of our people. Cures to the illnesses that have always plagued us are not too much to hope. American footprints on distant worlds are not too big a dream. Millions lifted from welfare to work is not too much to expect. And streets where mothers are safe from fear, schools where children learn in peace, and jobs where Americans prosper and grow are not too much to ask. \n",
      "\n"
     ]
    }
   ],
   "source": [
    "print_unique_lines(raw\"transcripts\\trump_2017.txt\", t_unique, 15)"
   ]
  },
  {
   "cell_type": "code",
   "execution_count": 37,
   "metadata": {},
   "outputs": [
    {
     "name": "stdout",
     "output_type": "stream",
     "text": [
      "13: In other words, we have lived through an era where too often short-term gains were prized over long-term prosperity, where we failed to look beyond the next payment, the next quarter, or the next election. A surplus became an excuse to transfer wealth to the wealthy instead of an opportunity to invest in our future. Regulations were gutted for the sake of a quick profit at the expense of a healthy market. People bought homes they knew they couldn't afford from banks and lenders who pushed those bad loans anyway. And all the while, critical debates and difficult decisions were put off for some other time, on some other day. Well, that day of reckoning has arrived, and the time to take charge of our future is here. \n",
      "\n",
      "21: Because of this plan, there are teachers who can now keep their jobs and educate our kids, health care professionals can continue caring for our sick. There are 57 police officers who are still on the streets of Minneapolis tonight because this plan prevented the layoffs their department was about to make. Because of this plan, 95 percent of working households in America will receive a tax cut; a tax cut that you will see in your paychecks beginning on April 1st. Because of this plan, families who are struggling to pay tuition costs will receive a $2,500 tax credit for all 4 years of college, and Americans who have lost their jobs in this recession will be able to receive extended unemployment benefits and continued health care coverage to help them weather this storm. \n",
      "\n",
      "61: For history tells a different story. History reminds us that at every moment of economic upheaval and transformation, this Nation has responded with bold action and big ideas. In the midst of Civil War, we laid railroad tracks from one coast to another that spurred commerce and industry. From the turmoil of the Industrial Revolution came a system of public high schools that prepared our citizens for a new age. In the wake of war and depression, the GI bill sent a generation to college and created the largest middle class in history. And a twilight struggle for freedom led to a nation of highways, an American on the Moon, and an explosion of technology that still shapes our world. In each case, Government didn't supplant private enterprise; it catalyzed private enterprise. It created the conditions for thousands of entrepreneurs and new businesses to adapt and to thrive. \n",
      "\n",
      "141: I think about Ty'Sheoma Bethea, the young girl from that school I visited in Dillon, South Carolina, a place where the ceilings leak, the paint peels off the walls, and they have to stop teaching six times a day because the train barrels by their classroom. She had been told that her school is hopeless, but the other day after class she went to the public library and typed up a letter to the people sitting in this Chamber. She even asked her principal for the money to buy a stamp. The letter asks us for help and says: \"We are just students trying to become lawyers, doctors, Congressmen like yourself, and one day President, so we can make a change to not just the State of South Carolina, but also the world. We are not quitters.\" That's what she said: \"We are not quitters.\" \n",
      "\n"
     ]
    }
   ],
   "source": [
    "print_unique_lines(raw\"transcripts\\obama_2009.txt\", o_unique, 20)"
   ]
  },
  {
   "cell_type": "code",
   "execution_count": 45,
   "metadata": {},
   "outputs": [
    {
     "name": "stdout",
     "output_type": "stream",
     "text": [
      "45: I believe a thriving private sector is the lifeblood of our economy. I think there are outdated regulations that need to be changed. There is redtape that needs to be cut. [Applause] There you go! Yes! See? But after years now of record corporate profits, working families won't get more opportunity or bigger paychecks just by letting big banks or big oil or hedge funds make their own rules at everybody else's expense. Middle class families are not going to feel more secure because we allowed attacks on collective bargaining to go unanswered. Food stamp recipients did not cause the financial crisis; recklessness on Wall Street did. Immigrants aren't the principal reason wages haven't gone up; those decisions are made in the boardrooms that all too often put quarterly earnings over long-term returns. It's sure not the average family watching tonight that avoids paying taxes through offshore accounts. [Laughter] \n",
      "\n",
      "59: Now, medical research is critical. We need the same level of commitment when it comes to developing clean energy sources. Look, if anybody still wants to dispute the science around climate change, have at it. [Laughter] You will be pretty lonely, because you'll be debating our military, most of America's business leaders, the majority of the American people, almost the entire scientific community, and 200 nations around the world who agree it's a problem and intend to solve it. But even if the planet wasn't at stake, even if 2014 wasn't the warmest year on record—until 2015 turned out to be even hotter—why would we want to pass up the chance for American businesses to produce and sell the energy of the future? Listen, 7 years ago, we made the single biggest investment in clean energy in our history. Here are the results. In fields from Iowa to Texas, wind power is now cheaper than dirtier, conventional power. On rooftops from Arizona to New York, solar is saving Americans tens of millions of dollars a year on their energy bills and employs more Americans than coal in jobs that pay better than average. We're taking steps to give homeowners the freedom to generate and store their own energy, something, by the way, that environmentalists and Tea Partiers have teamed up to support. And meanwhile, we've cut our imports of foreign oil by nearly 60 percent and cut carbon pollution more than any other country on Earth. Gas under 2 bucks a gallon ain't bad either. [Laughter] \n",
      "\n",
      "73: But as we focus on destroying ISIL, over-the-top claims that this is world war III just play into their hands. Masses of fighters on the back of pickup trucks, twisted souls plotting in apartments or garages, they pose an enormous danger to civilians; they have to be stopped. But they do not threaten our national existence. That is the story ISIL wants to tell. That's the kind of propaganda they use to recruit. We don't need to build them up to show that we're serious, and we sure don't need to push away vital allies in this fight by echoing the lie that ISIL is somehow representative of one of the world's largest religions. We just need to call them what they are: killers and fanatics who have to be rooted out, hunted down, and destroyed. \n",
      "\n"
     ]
    }
   ],
   "source": [
    "print_unique_lines(raw\"transcripts\\obama_2016.txt\", o_unique, 25)"
   ]
  },
  {
   "cell_type": "code",
   "execution_count": null,
   "metadata": {},
   "outputs": [],
   "source": []
  }
 ],
 "metadata": {
  "kernelspec": {
   "display_name": "Julia 1.1.0",
   "language": "julia",
   "name": "julia-1.1"
  },
  "language_info": {
   "file_extension": ".jl",
   "mimetype": "application/julia",
   "name": "julia",
   "version": "1.1.0"
  }
 },
 "nbformat": 4,
 "nbformat_minor": 2
}
